{
 "cells": [
  {
   "cell_type": "markdown",
   "id": "6e1fc7d5",
   "metadata": {},
   "source": [
    "1.Write a Python Program to Find LCM?"
   ]
  },
  {
   "cell_type": "code",
   "execution_count": 5,
   "id": "eed05a08",
   "metadata": {},
   "outputs": [],
   "source": [
    "def lcm(a,b):\n",
    "    if(a>b):\n",
    "        big=a\n",
    "    else:\n",
    "        big=b\n",
    "    while(True):\n",
    "        if( big %a==0) and (big% b==0):\n",
    "            return (big)\n",
    "        else:\n",
    "            big=big + 1"
   ]
  },
  {
   "cell_type": "code",
   "execution_count": 6,
   "id": "20d8b312",
   "metadata": {},
   "outputs": [
    {
     "name": "stdout",
     "output_type": "stream",
     "text": [
      "enter num 1: 8\n",
      "enter num 2: 9\n"
     ]
    }
   ],
   "source": [
    "n1=int(input(\"enter num 1: \"))\n",
    "n2=int(input(\"enter num 2: \"))"
   ]
  },
  {
   "cell_type": "code",
   "execution_count": 7,
   "id": "2d627b64",
   "metadata": {},
   "outputs": [
    {
     "data": {
      "text/plain": [
       "72"
      ]
     },
     "execution_count": 7,
     "metadata": {},
     "output_type": "execute_result"
    }
   ],
   "source": [
    "lcm(n1,n2)"
   ]
  },
  {
   "cell_type": "code",
   "execution_count": 8,
   "id": "aebd4d22",
   "metadata": {},
   "outputs": [
    {
     "data": {
      "text/plain": [
       "22386"
      ]
     },
     "execution_count": 8,
     "metadata": {},
     "output_type": "execute_result"
    }
   ],
   "source": [
    "lcm(546,246)"
   ]
  },
  {
   "cell_type": "markdown",
   "id": "51e20175",
   "metadata": {},
   "source": [
    "2.Write a Python Program to Find HCF?"
   ]
  },
  {
   "cell_type": "code",
   "execution_count": 11,
   "id": "ad150023",
   "metadata": {},
   "outputs": [],
   "source": [
    "def hcf(a,b):\n",
    "    if(a<b):\n",
    "        small=a\n",
    "    else:\n",
    "        small=b\n",
    "    for i in range(1,small+1):\n",
    "        if (a% i==0) and (b% i==0):\n",
    "            hcf_value=i\n",
    "    return hcf_value"
   ]
  },
  {
   "cell_type": "code",
   "execution_count": 20,
   "id": "b6b117c8",
   "metadata": {},
   "outputs": [
    {
     "data": {
      "text/plain": [
       "5"
      ]
     },
     "execution_count": 20,
     "metadata": {},
     "output_type": "execute_result"
    }
   ],
   "source": [
    "hcf(120,155)"
   ]
  },
  {
   "cell_type": "markdown",
   "id": "957050f7",
   "metadata": {},
   "source": [
    "3.Write a Python Program to Convert Decimal to Binary, Octal and Hexadecimal?"
   ]
  },
  {
   "cell_type": "code",
   "execution_count": 22,
   "id": "de63328c",
   "metadata": {},
   "outputs": [
    {
     "name": "stdout",
     "output_type": "stream",
     "text": [
      "enter num 1: 9\n",
      "binary value is : 0b1001 ,octal  value is : 0o11 , hexadecimal  value is : 0x9\n"
     ]
    }
   ],
   "source": [
    "n1=int(input(\"enter num 1: \"))\n",
    "binary=bin(n1)\n",
    "octal=oct(n1)\n",
    "hexadecimal=hex(n1)\n",
    "print(\"binary value is : {} ,octal  value is : {} , hexadecimal  value is : {}\".format(binary,octal,hexadecimal))"
   ]
  },
  {
   "cell_type": "markdown",
   "id": "23560ccb",
   "metadata": {},
   "source": [
    "4.Write a Python Program To Find ASCII value of a character?"
   ]
  },
  {
   "cell_type": "code",
   "execution_count": 28,
   "id": "5a7f24db",
   "metadata": {},
   "outputs": [
    {
     "name": "stdout",
     "output_type": "stream",
     "text": [
      "enter the char: h\n"
     ]
    },
    {
     "data": {
      "text/plain": [
       "104"
      ]
     },
     "execution_count": 28,
     "metadata": {},
     "output_type": "execute_result"
    }
   ],
   "source": [
    "# returns unicode code point \n",
    "ord(input('enter the char: '))"
   ]
  },
  {
   "cell_type": "markdown",
   "id": "a0d3e495",
   "metadata": {},
   "source": [
    "5. Write a Python Program to Make a Simple Calculator with 4 basic mathematical operations?"
   ]
  },
  {
   "cell_type": "code",
   "execution_count": 43,
   "id": "cb6196ea",
   "metadata": {},
   "outputs": [
    {
     "name": "stdout",
     "output_type": "stream",
     "text": [
      "enter num 1: 6588\n",
      "enter num 2: 53\n",
      "enter the operation: div\n",
      "124.30188679245283\n"
     ]
    }
   ],
   "source": [
    "n1=int(input(\"enter num 1: \"))\n",
    "n2=int(input(\"enter num 2: \"))\n",
    "choice =input('enter the operation: ')\n",
    "if choice=='sum':\n",
    "    print(n1 + n2)\n",
    "elif choice=='sub':\n",
    "    print(n1 - n2)\n",
    "elif choice=='mul':\n",
    "    print(n1 * n2)\n",
    "elif choice=='div':\n",
    "    print(n1 /n2)"
   ]
  },
  {
   "cell_type": "code",
   "execution_count": null,
   "id": "1ec474a6",
   "metadata": {},
   "outputs": [],
   "source": []
  }
 ],
 "metadata": {
  "kernelspec": {
   "display_name": "Python 3",
   "language": "python",
   "name": "python3"
  },
  "language_info": {
   "codemirror_mode": {
    "name": "ipython",
    "version": 3
   },
   "file_extension": ".py",
   "mimetype": "text/x-python",
   "name": "python",
   "nbconvert_exporter": "python",
   "pygments_lexer": "ipython3",
   "version": "3.8.8"
  }
 },
 "nbformat": 4,
 "nbformat_minor": 5
}
