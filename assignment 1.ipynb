{
 "cells": [
  {
   "cell_type": "code",
   "execution_count": 12,
   "id": "81e72919",
   "metadata": {},
   "outputs": [],
   "source": [
    "1. In the below elements which of them are values or an expression? eg:- values can be integer or string and expressions will be mathematical operators.\n",
    "*          Expression\n",
    "'hello'    Value(string)\n",
    "-87.8      Value(int)\n",
    "-          expression\n",
    "/          expression\n",
    "+          expression\n",
    "6          value(int)"
   ]
  },
  {
   "cell_type": "code",
   "execution_count": null,
   "id": "80ac89a4",
   "metadata": {},
   "outputs": [],
   "source": [
    "2. What is the difference between string and variable?\n",
    "--> A string is a type of data type while variable is name given to memory location."
   ]
  },
  {
   "cell_type": "code",
   "execution_count": null,
   "id": "64d2a466",
   "metadata": {},
   "outputs": [],
   "source": [
    "3. Describe three different data types.\n",
    "-int(stores numerical value without decimal) ex.617,2,5\n",
    "-float(stores numerical value with decimal) ex. 85.2\n",
    "-string(stores alphabetical value) ex “vfdfdvfgjh”,”ddfg dfgd”"
   ]
  },
  {
   "cell_type": "code",
   "execution_count": null,
   "id": "4c1fb5bc",
   "metadata": {},
   "outputs": [],
   "source": [
    "4. What is an expression made up of? What do all expressions do?\n",
    "-->combination of operators and operands is an expression. Ex a= b+c +8\n",
    "The expression returns any value and it can be stored in any variable.\n"
   ]
  },
  {
   "cell_type": "code",
   "execution_count": null,
   "id": "8d051e09",
   "metadata": {},
   "outputs": [],
   "source": [
    "5. This assignment statements, like spam = 10. What is the difference between an expression and a statement?\n",
    "--> An expression always produces or return any value whereas statement may or may not return any value or produce any result.\n",
    "Spam =10 will just assign or store 10 in spam variable.It is not returning any value. "
   ]
  },
  {
   "cell_type": "code",
   "execution_count": 8,
   "id": "c1088129",
   "metadata": {},
   "outputs": [
    {
     "data": {
      "text/plain": [
       "23"
      ]
     },
     "execution_count": 8,
     "metadata": {},
     "output_type": "execute_result"
    }
   ],
   "source": [
    "#6. After running the following code, what does the variable bacon contain?\n",
    "bacon = 22\n",
    "bacon + 1\n"
   ]
  },
  {
   "cell_type": "code",
   "execution_count": 9,
   "id": "67c9146f",
   "metadata": {},
   "outputs": [
    {
     "data": {
      "text/plain": [
       "'spamspamspam'"
      ]
     },
     "execution_count": 9,
     "metadata": {},
     "output_type": "execute_result"
    }
   ],
   "source": [
    "#7. What should the values of the following two terms be?\n",
    "'spam' + 'spamspam'\n",
    "'spam' * 3\n"
   ]
  },
  {
   "cell_type": "code",
   "execution_count": 11,
   "id": "46204aaf",
   "metadata": {},
   "outputs": [],
   "source": [
    "8. Why is eggs a valid variable name while 100 is invalid?\n",
    "--> A variable name should start with alphabet or an _."
   ]
  },
  {
   "cell_type": "code",
   "execution_count": null,
   "id": "918be2b6",
   "metadata": {},
   "outputs": [],
   "source": [
    "9. What three functions can be used to get the integer, floating-point number, or string version of a value?\n",
    "--> a=int(value), a=float(value), a=Str(value)"
   ]
  },
  {
   "cell_type": "code",
   "execution_count": null,
   "id": "27e484fe",
   "metadata": {},
   "outputs": [],
   "source": [
    "10. Why does this expression cause an error? How can you fix it?\n",
    "'I have eaten ' + 99 + ' burritos.'\n",
    "--> 99 is not string . replace it “99” or str(99)"
   ]
  }
 ],
 "metadata": {
  "kernelspec": {
   "display_name": "Python 3",
   "language": "python",
   "name": "python3"
  },
  "language_info": {
   "codemirror_mode": {
    "name": "ipython",
    "version": 3
   },
   "file_extension": ".py",
   "mimetype": "text/x-python",
   "name": "python",
   "nbconvert_exporter": "python",
   "pygments_lexer": "ipython3",
   "version": "3.8.8"
  }
 },
 "nbformat": 4,
 "nbformat_minor": 5
}
