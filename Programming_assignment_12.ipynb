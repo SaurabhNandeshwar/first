{
 "cells": [
  {
   "cell_type": "markdown",
   "id": "27b3af84",
   "metadata": {},
   "source": [
    "1. Write a Python program to Extract Unique values dictionary values?\n"
   ]
  },
  {
   "cell_type": "code",
   "execution_count": 7,
   "id": "5afe4ae9",
   "metadata": {},
   "outputs": [
    {
     "name": "stdout",
     "output_type": "stream",
     "text": [
      "{1, 2, 3, 4, 5, 6, 7, 8, 9, 123}\n"
     ]
    }
   ],
   "source": [
    "dict={\"1\":[1,2,3,4,5],\"2\":[3,4,5,6,7,8],\"3\":[123,5,6,7,8,9]}\n",
    "k=dict.values()\n",
    "l=[]\n",
    "for i in k:\n",
    "    for j in i:\n",
    "        l.append(j)\n",
    "print(set(l))"
   ]
  },
  {
   "cell_type": "markdown",
   "id": "34231a1e",
   "metadata": {},
   "source": [
    "2. Write a Python program to find the sum of all items in a dictionary?"
   ]
  },
  {
   "cell_type": "code",
   "execution_count": 30,
   "id": "1cb22bdf",
   "metadata": {},
   "outputs": [
    {
     "name": "stdout",
     "output_type": "stream",
     "text": [
      "key's sum is :  6\n",
      "value's sum is :  206\n",
      "Total sum is:  212\n"
     ]
    }
   ],
   "source": [
    "dict={\"1\":[1,2,3,4,5],\"2\":[3,4,5,6,7,8],\"3\":[123,5,6,7,8,9]}\n",
    "sum,sum1=0,0\n",
    "for i in dict.keys():\n",
    "    sum=sum+int(i)\n",
    "    \n",
    "print(\"key's sum is : \",sum)    \n",
    "for i in dict.values():\n",
    "    for j in i:\n",
    "        sum1=sum1+j\n",
    "print(\"value's sum is : \",sum1)\n",
    "print(\"Total sum is: \",sum+sum1)"
   ]
  },
  {
   "cell_type": "markdown",
   "id": "d092b00c",
   "metadata": {},
   "source": [
    "3. Write a Python program to Merging two Dictionaries?"
   ]
  },
  {
   "cell_type": "code",
   "execution_count": 33,
   "id": "73ef58e2",
   "metadata": {},
   "outputs": [
    {
     "data": {
      "text/plain": [
       "{'1': [1, 2, 3, 4, 5],\n",
       " '2': [3, 4, 5, 6, 7, 8],\n",
       " '3': [123, 5, 6, 7, 8, 9],\n",
       " '4': [4, 34, 2345, 87],\n",
       " '5': ('sadf', 12)}"
      ]
     },
     "execution_count": 33,
     "metadata": {},
     "output_type": "execute_result"
    }
   ],
   "source": [
    "dict1={\"1\":[1,2,3,4,5],\"2\":[3,4,5,6,7,8],\"3\":[123,5,6,7,8,9]}\n",
    "dict2={\"4\":[4,34,2345,87],\"5\":(\"sadf\",12)}\n",
    "dict1.update(dict2)\n",
    "dict1"
   ]
  },
  {
   "cell_type": "markdown",
   "id": "20e8c054",
   "metadata": {},
   "source": [
    "4. Write a Python program to convert key-values list to flat dictionary?\n"
   ]
  },
  {
   "cell_type": "code",
   "execution_count": 38,
   "id": "42f03cb1",
   "metadata": {},
   "outputs": [
    {
     "name": "stdout",
     "output_type": "stream",
     "text": [
      "{'a': 1, 'c.a': 2, 'c.b.x': 3, 'c.b.y': 4, 'c.b.z': 5, 'd': [6, 7, 8]}\n"
     ]
    }
   ],
   "source": [
    "d=({'a': 1, 'c': {'a': 2, 'b': {'x': 3, 'y': 4, 'z': 5}}, 'd': [6, 7, 8]})\n",
    "#!pip install flatdict\n",
    "import flatdict\n",
    "dict3=flatdict.FlatDict(d,\".\")\n",
    "print(dict3)"
   ]
  },
  {
   "cell_type": "markdown",
   "id": "175c33f8",
   "metadata": {},
   "source": [
    "5. Write a Python program to insertion at the beginning in OrderedDict?\n"
   ]
  },
  {
   "cell_type": "code",
   "execution_count": 58,
   "id": "307fdf30",
   "metadata": {},
   "outputs": [
    {
     "name": "stdout",
     "output_type": "stream",
     "text": [
      "OrderedDict([('one', 1), ('two', 2), ('three', 3), ('four', 4)])\n"
     ]
    },
    {
     "data": {
      "text/plain": [
       "OrderedDict([('four', 4), ('one', 1), ('two', 2), ('three', 3)])"
      ]
     },
     "execution_count": 58,
     "metadata": {},
     "output_type": "execute_result"
    }
   ],
   "source": [
    "from collections import OrderedDict\n",
    "numbers = OrderedDict(one=1, two=2, three=3)\n",
    "numbers['four']=4\n",
    "print(numbers)\n",
    "numbers.move_to_end('four',last=False)\n",
    "numbers"
   ]
  },
  {
   "cell_type": "markdown",
   "id": "cb79e0bc",
   "metadata": {},
   "source": [
    "7. Write a Python program to sort Python Dictionaries by Key or Value?"
   ]
  },
  {
   "cell_type": "code",
   "execution_count": 62,
   "id": "6b2a47f0",
   "metadata": {},
   "outputs": [
    {
     "name": "stdout",
     "output_type": "stream",
     "text": [
      "b [6, 7, 8]\n",
      "c {'a': 2, 'b': {'x': 3, 'y': 4, 'z': 5}}\n",
      "k 1\n"
     ]
    }
   ],
   "source": [
    "d=({'k': 1, 'c': {'a': 2, 'b': {'x': 3, 'y': 4, 'z': 5}}, 'b': [6, 7, 8]})\n",
    "for i in sorted(d):\n",
    "    print(i,d[i])"
   ]
  },
  {
   "cell_type": "code",
   "execution_count": 68,
   "id": "b1f90698",
   "metadata": {},
   "outputs": [
    {
     "data": {
      "text/plain": [
       "[('b', [6, 7, 8]), ('c', {'a': 2, 'b': {'x': 3, 'y': 4, 'z': 5}}), ('k', 1)]"
      ]
     },
     "execution_count": 68,
     "metadata": {},
     "output_type": "execute_result"
    }
   ],
   "source": [
    "sorted_dictionary=sorted(d.items())\n",
    "sorted_dictionary"
   ]
  },
  {
   "cell_type": "code",
   "execution_count": null,
   "id": "33dabad7",
   "metadata": {},
   "outputs": [],
   "source": []
  }
 ],
 "metadata": {
  "kernelspec": {
   "display_name": "Python 3",
   "language": "python",
   "name": "python3"
  },
  "language_info": {
   "codemirror_mode": {
    "name": "ipython",
    "version": 3
   },
   "file_extension": ".py",
   "mimetype": "text/x-python",
   "name": "python",
   "nbconvert_exporter": "python",
   "pygments_lexer": "ipython3",
   "version": "3.8.8"
  }
 },
 "nbformat": 4,
 "nbformat_minor": 5
}
