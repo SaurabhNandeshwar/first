{
 "cells": [
  {
   "cell_type": "markdown",
   "id": "13d4f3dd",
   "metadata": {},
   "source": [
    "1. Write a Python Program to Add Two Matrices?\n",
    "\n"
   ]
  },
  {
   "cell_type": "code",
   "execution_count": 12,
   "id": "e44ca345",
   "metadata": {},
   "outputs": [],
   "source": [
    "a=[[1,2],[4,5]]\n",
    "b=[[6,7],[2,5]]\n",
    "c=[[0,0],[0,0]]   # storing 0 to avoid index out of range\n",
    "for i in range(0,2):\n",
    "    for j in range(0,2):\n",
    "        c[i][j]=a[i][j]+b[i][j]"
   ]
  },
  {
   "cell_type": "code",
   "execution_count": 13,
   "id": "6bab497c",
   "metadata": {},
   "outputs": [
    {
     "data": {
      "text/plain": [
       "[[7, 9], [6, 10]]"
      ]
     },
     "execution_count": 13,
     "metadata": {},
     "output_type": "execute_result"
    }
   ],
   "source": [
    "c"
   ]
  },
  {
   "cell_type": "markdown",
   "id": "eaaa5cd9",
   "metadata": {},
   "source": [
    "2. Write a Python Program to Multiply Two Matrices?"
   ]
  },
  {
   "cell_type": "code",
   "execution_count": 16,
   "id": "07299fc6",
   "metadata": {},
   "outputs": [
    {
     "name": "stdout",
     "output_type": "stream",
     "text": [
      "matrix A is : [[1, 2], [4, 5]]\n",
      "matrix B is : [[6, 7], [2, 5]]\n",
      "matrix C is : [[10 17]\n",
      " [34 53]]\n"
     ]
    }
   ],
   "source": [
    "import numpy as np\n",
    "A = [ [1,2],[4,5]]\n",
    "print(\"matrix A is :\",A)\n",
    "B = [[6,7],[2,5]]\n",
    "print(\"matrix B is :\",B)\n",
    "C= [[0,0],[0,0]]\n",
    "C= np.dot(A,B)\n",
    "print(\"matrix C is :\",C)"
   ]
  },
  {
   "cell_type": "markdown",
   "id": "654dd364",
   "metadata": {},
   "source": [
    "3. Write a Python Program to Transpose a Matrix?"
   ]
  },
  {
   "cell_type": "code",
   "execution_count": 20,
   "id": "526e46db",
   "metadata": {},
   "outputs": [
    {
     "data": {
      "text/plain": [
       "array([[10, 34],\n",
       "       [17, 53]])"
      ]
     },
     "execution_count": 20,
     "metadata": {},
     "output_type": "execute_result"
    }
   ],
   "source": [
    "C=C.transpose()\n",
    "C\n"
   ]
  },
  {
   "cell_type": "code",
   "execution_count": 46,
   "id": "488856eb",
   "metadata": {},
   "outputs": [
    {
     "name": "stdout",
     "output_type": "stream",
     "text": [
      "Object `Order` not found.\n"
     ]
    },
    {
     "data": {
      "text/plain": [
       "['d', 'e', 'h', 'l', 'l', 'l', 'o', 'o', 'r', 'w']"
      ]
     },
     "execution_count": 46,
     "metadata": {},
     "output_type": "execute_result"
    }
   ],
   "source": [
    "4. Write a Python Program to Sort Words in Alphabetic Order?\n",
    "l=\"hello world\"\n",
    "l2=sorted(l)\n",
    "l2[1:]"
   ]
  },
  {
   "cell_type": "markdown",
   "id": "aad9a878",
   "metadata": {},
   "source": [
    "5. Write a Python Program to Remove Punctuation From a String?"
   ]
  },
  {
   "cell_type": "code",
   "execution_count": 61,
   "id": "8036e526",
   "metadata": {},
   "outputs": [
    {
     "name": "stdout",
     "output_type": "stream",
     "text": [
      "hello  world  this is me      \n"
     ]
    }
   ],
   "source": [
    "\n",
    "s=\"hello ,world: this is me'.. ! \"\n",
    "\n",
    "punc = ''' !()-[]{};:'\"\\,<>./_~ ''' \n",
    "for i in s:\n",
    "    if i in punc:\n",
    "        s=s.replace(i,\" \")\n",
    "        \n",
    "print(s)"
   ]
  },
  {
   "cell_type": "code",
   "execution_count": null,
   "id": "352c9f4c",
   "metadata": {},
   "outputs": [],
   "source": []
  }
 ],
 "metadata": {
  "kernelspec": {
   "display_name": "Python 3",
   "language": "python",
   "name": "python3"
  },
  "language_info": {
   "codemirror_mode": {
    "name": "ipython",
    "version": 3
   },
   "file_extension": ".py",
   "mimetype": "text/x-python",
   "name": "python",
   "nbconvert_exporter": "python",
   "pygments_lexer": "ipython3",
   "version": "3.8.8"
  }
 },
 "nbformat": 4,
 "nbformat_minor": 5
}
