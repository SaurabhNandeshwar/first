{
 "cells": [
  {
   "cell_type": "markdown",
   "id": "5c4d2793",
   "metadata": {},
   "source": [
    "1. Write a Python Program to Add Two Matrices?"
   ]
  },
  {
   "cell_type": "code",
   "execution_count": 12,
   "id": "808c0d09",
   "metadata": {},
   "outputs": [],
   "source": [
    "a=[[1,2],[4,5]]\n",
    "b=[[6,7],[2,5]]\n",
    "c=[[0,0],[0,0]]   # storing 0 to avoid index out of range\n",
    "for i in range(0,2):\n",
    "    for j in range(0,2):\n",
    "        c[i][j]=a[i][j]+b[i][j]"
   ]
  },
  {
   "cell_type": "code",
   "execution_count": 13,
   "id": "a49840b0",
   "metadata": {},
   "outputs": [
    {
     "data": {
      "text/plain": [
       "[[7, 9], [6, 10]]"
      ]
     },
     "execution_count": 13,
     "metadata": {},
     "output_type": "execute_result"
    }
   ],
   "source": [
    "c"
   ]
  },
  {
   "cell_type": "markdown",
   "id": "6770f50d",
   "metadata": {},
   "source": [
    "2. Write a Python Program to Multiply Two Matrices?"
   ]
  },
  {
   "cell_type": "code",
   "execution_count": 16,
   "id": "33c06774",
   "metadata": {},
   "outputs": [
    {
     "name": "stdout",
     "output_type": "stream",
     "text": [
      "matrix A is : [[1, 2], [4, 5]]\n",
      "matrix B is : [[6, 7], [2, 5]]\n",
      "matrix C is : [[10 17]\n",
      " [34 53]]\n"
     ]
    }
   ],
   "source": [
    "import numpy as np\n",
    "A = [ [1,2],[4,5]]\n",
    "print(\"matrix A is :\",A)\n",
    "B = [[6,7],[2,5]]\n",
    "print(\"matrix B is :\",B)\n",
    "C= [[0,0],[0,0]]\n",
    "C= np.dot(A,B)\n",
    "print(\"matrix C is :\",C)"
   ]
  },
  {
   "cell_type": "markdown",
   "id": "71b9e4bb",
   "metadata": {},
   "source": [
    "3. Write a Python Program to Transpose a Matrix?"
   ]
  },
  {
   "cell_type": "code",
   "execution_count": 20,
   "id": "b672abb5",
   "metadata": {},
   "outputs": [
    {
     "data": {
      "text/plain": [
       "array([[10, 34],\n",
       "       [17, 53]])"
      ]
     },
     "execution_count": 20,
     "metadata": {},
     "output_type": "execute_result"
    }
   ],
   "source": [
    "C=C.transpose()\n",
    "C\n"
   ]
  },
  {
   "cell_type": "code",
   "execution_count": 46,
   "id": "1dd8b066",
   "metadata": {},
   "outputs": [
    {
     "name": "stdout",
     "output_type": "stream",
     "text": [
      "Object `Order` not found.\n"
     ]
    },
    {
     "data": {
      "text/plain": [
       "['d', 'e', 'h', 'l', 'l', 'l', 'o', 'o', 'r', 'w']"
      ]
     },
     "execution_count": 46,
     "metadata": {},
     "output_type": "execute_result"
    }
   ],
   "source": [
    "4. Write a Python Program to Sort Words in Alphabetic Order?\n",
    "l=\"hello world\"\n",
    "l2=sorted(l)\n",
    "l2[1:]"
   ]
  },
  {
   "cell_type": "markdown",
   "id": "5c295e57",
   "metadata": {},
   "source": [
    "5. Write a Python Program to Remove Punctuation From a String?"
   ]
  },
  {
   "cell_type": "code",
   "execution_count": 61,
   "id": "beb910c3",
   "metadata": {},
   "outputs": [
    {
     "name": "stdout",
     "output_type": "stream",
     "text": [
      "hello  world  this is me      \n"
     ]
    }
   ],
   "source": [
    "\n",
    "s=\"hello ,world: this is me'.. ! \"\n",
    "\n",
    "punc = ''' !()-[]{};:'\"\\,<>./_~ ''' \n",
    "for i in s:\n",
    "    if i in punc:\n",
    "        s=s.replace(i,\" \")\n",
    "        \n",
    "print(s)"
   ]
  },
  {
   "cell_type": "code",
   "execution_count": null,
   "id": "f952b34a",
   "metadata": {},
   "outputs": [],
   "source": []
  }
 ],
 "metadata": {
  "kernelspec": {
   "display_name": "Python 3",
   "language": "python",
   "name": "python3"
  },
  "language_info": {
   "codemirror_mode": {
    "name": "ipython",
    "version": 3
   },
   "file_extension": ".py",
   "mimetype": "text/x-python",
   "name": "python",
   "nbconvert_exporter": "python",
   "pygments_lexer": "ipython3",
   "version": "3.8.8"
  }
 },
 "nbformat": 4,
 "nbformat_minor": 5
}
