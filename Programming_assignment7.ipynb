{
 "cells": [
  {
   "cell_type": "markdown",
   "id": "acffa61f",
   "metadata": {},
   "source": [
    "1. Write a Python Program to find sum of array?\n",
    "\n"
   ]
  },
  {
   "cell_type": "code",
   "execution_count": 2,
   "id": "d219ca0e",
   "metadata": {},
   "outputs": [],
   "source": [
    "import array as arr"
   ]
  },
  {
   "cell_type": "code",
   "execution_count": 7,
   "id": "51cf81e6",
   "metadata": {},
   "outputs": [
    {
     "name": "stdout",
     "output_type": "stream",
     "text": [
      "<class 'array.array'>\n",
      "15.400000095367432\n"
     ]
    }
   ],
   "source": [
    "a=arr.array('f',(1,2,3.4,4,5))\n",
    "print(type(a))\n",
    "print(sum(a))"
   ]
  },
  {
   "cell_type": "markdown",
   "id": "98433c0e",
   "metadata": {},
   "source": [
    "2. Write a Python Program to find largest element in an array?"
   ]
  },
  {
   "cell_type": "code",
   "execution_count": 9,
   "id": "28644797",
   "metadata": {},
   "outputs": [
    {
     "data": {
      "text/plain": [
       "52"
      ]
     },
     "execution_count": 9,
     "metadata": {},
     "output_type": "execute_result"
    }
   ],
   "source": [
    "a2=arr.array('i',[11,25,34,42,52])\n",
    "max(a2)"
   ]
  },
  {
   "cell_type": "markdown",
   "id": "265d97d3",
   "metadata": {},
   "source": [
    "3. Write a Python Program for array rotation?"
   ]
  },
  {
   "cell_type": "code",
   "execution_count": 45,
   "id": "538bc54b",
   "metadata": {},
   "outputs": [
    {
     "data": {
      "text/plain": [
       "[71, 110, 445, 12, 14, 16, 18, 91, 81]"
      ]
     },
     "execution_count": 45,
     "metadata": {},
     "output_type": "execute_result"
    }
   ],
   "source": [
    "def rotate(a,d):\n",
    "    a[:]=a[d:]+a[0:d]\n",
    "    return a\n",
    "rotate([12,14,16,18,91,81,71,110,445],6)\n"
   ]
  },
  {
   "cell_type": "markdown",
   "id": "d2eda1f2",
   "metadata": {},
   "source": [
    "4. Write a Python Program to Split the array and add the first part to the end?"
   ]
  },
  {
   "cell_type": "code",
   "execution_count": 25,
   "id": "9666798b",
   "metadata": {},
   "outputs": [
    {
     "data": {
      "text/plain": [
       "array('i', [34, 42, 52, 11, 25])"
      ]
     },
     "execution_count": 25,
     "metadata": {},
     "output_type": "execute_result"
    }
   ],
   "source": [
    "a2=arr.array('i',[11,25,34,42,52])\n",
    "a2=a2[2:5] + a2[0:2]   # split by [11,25] and [34,42,52]\n",
    "a2"
   ]
  },
  {
   "cell_type": "markdown",
   "id": "f6bb462b",
   "metadata": {},
   "source": [
    "5. Write a Python Program to check if given array is Monotonic?"
   ]
  },
  {
   "cell_type": "code",
   "execution_count": 44,
   "id": "2fd8152d",
   "metadata": {},
   "outputs": [
    {
     "name": "stdout",
     "output_type": "stream",
     "text": [
      "monotonic\n"
     ]
    }
   ],
   "source": [
    "# monotonic:continuously increasing or decreasing\n",
    "l=[11,25,34,42,52]\n",
    "\n",
    "n=len(l)\n",
    "count=0\n",
    "for i in range(1,n):\n",
    "    if (l[i] < l[i-1]  ):\n",
    "        count=count+1\n",
    "if(count > 0):\n",
    "    print(\"not monotonic\")\n",
    "else:\n",
    "    print(\"monotonic\")"
   ]
  },
  {
   "cell_type": "code",
   "execution_count": null,
   "id": "9c710102",
   "metadata": {},
   "outputs": [],
   "source": []
  }
 ],
 "metadata": {
  "kernelspec": {
   "display_name": "Python 3",
   "language": "python",
   "name": "python3"
  },
  "language_info": {
   "codemirror_mode": {
    "name": "ipython",
    "version": 3
   },
   "file_extension": ".py",
   "mimetype": "text/x-python",
   "name": "python",
   "nbconvert_exporter": "python",
   "pygments_lexer": "ipython3",
   "version": "3.8.8"
  }
 },
 "nbformat": 4,
 "nbformat_minor": 5
}
