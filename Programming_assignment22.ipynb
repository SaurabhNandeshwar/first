{
 "cells": [
  {
   "cell_type": "markdown",
   "id": "f6abeb90",
   "metadata": {},
   "source": [
    "Question1\n",
    "Create a function that takes three parameters where:\n",
    "\n",
    "x is the start of the range (inclusive).\n",
    "\n",
    "y is the end of the range (inclusive).\n",
    "\n",
    "n is the divisor to be checked against.\n",
    "\n",
    "Return an ordered list with numbers in the range that are divisible by the third parameter n.\n",
    "\n",
    "Return an empty list if there are no numbers that are divisible by n.\n",
    "\n",
    "Examples\n",
    "\n",
    "list_operation(1, 10, 3) ➞ [3, 6, 9]\n",
    "\n",
    "list_operation(7, 9, 2) ➞ [8]\n",
    "\n",
    "list_operation(15, 20, 7) ➞ []"
   ]
  },
  {
   "cell_type": "code",
   "execution_count": 2,
   "id": "47455165",
   "metadata": {},
   "outputs": [],
   "source": [
    "def list_operation(x,y,n):\n",
    "    l=[]\n",
    "    for i in range(x,y+1):\n",
    "        if(i%n==0):\n",
    "            l.append(i)\n",
    "        \n",
    "            \n",
    "    return l"
   ]
  },
  {
   "cell_type": "code",
   "execution_count": 3,
   "id": "76e5362c",
   "metadata": {},
   "outputs": [
    {
     "data": {
      "text/plain": [
       "([3, 6, 9], [])"
      ]
     },
     "execution_count": 3,
     "metadata": {},
     "output_type": "execute_result"
    }
   ],
   "source": [
    "list_operation(1,10,3),list_operation(15,20,7)"
   ]
  },
  {
   "cell_type": "markdown",
   "id": "72ef39ba",
   "metadata": {},
   "source": [
    "Question 2:\n",
    "Create a function that takes in two lists and returns True if the second list follows the first list\n",
    "by one element, and False otherwise. In other words, determine if the second list is the first\n",
    "list shifted to the right by 1.\n",
    "\n",
    "Examples\n",
    "\n",
    "simon_says([1, 2], [5, 1]) ➞ True\n",
    "\n",
    "simon_says([1, 2], [5, 5]) ➞ False\n",
    "\n",
    "simon_says([1, 2, 3, 4, 5], [0, 1, 2, 3, 4]) ➞ True\n",
    "\n",
    "simon_says([1, 2, 3, 4, 5], [5, 5, 1, 2, 3]) ➞ False\n",
    "\n",
    "Notes\n",
    "\n",
    " Both input lists will be of the same length, and will have a minimum length of 2.\n",
    "\n",
    " The values of the 0-indexed element in the second list and the n-1th indexed element\n",
    "in the first list do not matter.\n",
    "\n"
   ]
  },
  {
   "cell_type": "code",
   "execution_count": 4,
   "id": "17982cd6",
   "metadata": {},
   "outputs": [
    {
     "data": {
      "text/plain": [
       "(False, True)"
      ]
     },
     "execution_count": 4,
     "metadata": {},
     "output_type": "execute_result"
    }
   ],
   "source": [
    "def simon_says(l1,l2):\n",
    "    count=0\n",
    "    for i in range(1,len(l2)):\n",
    "        if(l1[i-1]==l2[i]):\n",
    "            count=count+1\n",
    "    if(count==len(l1)-1):\n",
    "        return True\n",
    "    else:\n",
    "        return False\n",
    "simon_says([1, 2, 3, 4, 5], [5, 5, 1, 2, 3]) , simon_says([1, 2, 3, 4, 5], [0, 1, 2, 3, 4])"
   ]
  },
  {
   "cell_type": "markdown",
   "id": "2ea3d702",
   "metadata": {},
   "source": [
    "A group of friends have decided to start a secret society. The name will be the first letter of\n",
    "each of their names, sorted in alphabetical order.\n",
    "\n",
    "Create a function that takes in a list of names and returns the name of the secret society.\n",
    "\n",
    "society_name([&quot;Adam&quot;, &quot;Sarah&quot;, &quot;Malcolm&quot;]) ➞ &quot;AMS&quot;\n",
    "\n",
    "society_name([&quot;Harry&quot;, &quot;Newt&quot;, &quot;Luna&quot;, &quot;Cho&quot;]) ➞ &quot;CHLN&quot;\n",
    "\n",
    "society_name([&quot;Phoebe&quot;, &quot;Chandler&quot;, &quot;Rachel&quot;, &quot;Ross&quot;, &quot;Monica&quot;, &quot;Joey&quot;])"
   ]
  },
  {
   "cell_type": "code",
   "execution_count": 17,
   "id": "eb72189a",
   "metadata": {},
   "outputs": [
    {
     "name": "stdout",
     "output_type": "stream",
     "text": [
      "AMS\n",
      "CJMPRR\n"
     ]
    }
   ],
   "source": [
    "def society_name(l):\n",
    "    name=\"\"\n",
    "    name1=[]\n",
    "    for i in sorted(l):\n",
    "        #print(i[0])\n",
    "        name=name+(i[0])\n",
    "    return (name)\n",
    "print(society_name(['Adam','Sarah','Malcolm']))\n",
    "print(society_name(['Phoebe','Chandler','Rachel','Ross','Monica','Joey']))"
   ]
  },
  {
   "cell_type": "markdown",
   "id": "4ac77960",
   "metadata": {},
   "source": [
    "Question 4\n",
    "\n",
    "An isogram is a word that has no duplicate letters. Create a function that takes a string and\n",
    "returns either True or False depending on whether or not it&#39;s an &quot;isogram&quot;.\n",
    "\n",
    "Examples\n",
    "\n",
    "is_isogram(&quot;Algorism&quot;) ➞ True\n",
    "\n",
    "is_isogram(&quot;PasSword&quot;) ➞ False\n",
    "\n",
    "Not case sensitive.\n",
    "\n",
    "is_isogram(&quot;Consecutive&quot;) ➞ False\n",
    "\n",
    "Notes\n",
    "\n",
    "     Ignore letter case (should not be case sensitive).\n",
    "     All test cases contain valid one word strings."
   ]
  },
  {
   "cell_type": "code",
   "execution_count": 25,
   "id": "1531928f",
   "metadata": {},
   "outputs": [
    {
     "data": {
      "text/plain": [
       "(True, False)"
      ]
     },
     "execution_count": 25,
     "metadata": {},
     "output_type": "execute_result"
    }
   ],
   "source": [
    "#isogram : no duplicate letter\n",
    "def is_isogram(s):\n",
    "    if(len(s)==len(set(s.lower()))):\n",
    "        return True\n",
    "    else:\n",
    "        return False\n",
    "is_isogram('Algorism'),is_isogram('PasSword')\n"
   ]
  },
  {
   "cell_type": "markdown",
   "id": "9926a376",
   "metadata": {},
   "source": [
    "Create a function that takes a string and returns True or False, depending on whether the\n",
    "characters are in order or not.\n",
    "\n",
    "Examples\n",
    "\n",
    "\n",
    "is_in_order(&quot;abc&quot;) ➞ True\n",
    "\n",
    "is_in_order(&quot;edabit&quot;) ➞ False\n",
    "\n",
    "is_in_order(&quot;123&quot;) ➞ True\n",
    "\n",
    "is_in_order(&quot;xyzz&quot;) ➞ True"
   ]
  },
  {
   "cell_type": "code",
   "execution_count": 32,
   "id": "ad5b9087",
   "metadata": {},
   "outputs": [
    {
     "data": {
      "text/plain": [
       "(True, False, True, True)"
      ]
     },
     "execution_count": 32,
     "metadata": {},
     "output_type": "execute_result"
    }
   ],
   "source": [
    "def is_in_order(s):\n",
    "    string=\"\"\n",
    "    for i in sorted(s):\n",
    "        string=string+i\n",
    "    if(s==string):\n",
    "        return True\n",
    "    else:\n",
    "        return False\n",
    "is_in_order(\"abc\"),is_in_order(\"edabit\"),is_in_order(\"123\"),is_in_order(\"xyzz\")"
   ]
  },
  {
   "cell_type": "code",
   "execution_count": null,
   "id": "50122b18",
   "metadata": {},
   "outputs": [],
   "source": []
  }
 ],
 "metadata": {
  "kernelspec": {
   "display_name": "Python 3",
   "language": "python",
   "name": "python3"
  },
  "language_info": {
   "codemirror_mode": {
    "name": "ipython",
    "version": 3
   },
   "file_extension": ".py",
   "mimetype": "text/x-python",
   "name": "python",
   "nbconvert_exporter": "python",
   "pygments_lexer": "ipython3",
   "version": "3.8.8"
  }
 },
 "nbformat": 4,
 "nbformat_minor": 5
}
