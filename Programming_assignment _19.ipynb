{
 "cells": [
  {
   "cell_type": "markdown",
   "id": "bb6a630f",
   "metadata": {},
   "source": [
    "Create a function that takes a string and returns a string in which each character is repeated\n",
    "once.\n",
    "\n",
    "Examples\n",
    "\n",
    "double_char(&quot;String&quot;) ➞ &quot;SSttrriinngg&quot;"
   ]
  },
  {
   "cell_type": "code",
   "execution_count": 38,
   "id": "96393ea1",
   "metadata": {},
   "outputs": [
    {
     "name": "stdout",
     "output_type": "stream",
     "text": [
      "['HH', 'EE', 'll', '--', 'll', 'oo']\n"
     ]
    },
    {
     "data": {
      "text/plain": [
       "'HHEEll--lloo'"
      ]
     },
     "execution_count": 38,
     "metadata": {},
     "output_type": "execute_result"
    }
   ],
   "source": [
    "def double_char(s):\n",
    "    new_string=[]\n",
    "    for i in list(s):\n",
    "        new_string.append(i*2)\n",
    "    print(new_string)\n",
    "    s=\"\"   # creating empty string \n",
    "    for i in new_string:\n",
    "        s=s+i  #apending i\n",
    "    return s\n",
    "double_char(\"HEl-lo\")"
   ]
  },
  {
   "cell_type": "markdown",
   "id": "9d101f06",
   "metadata": {},
   "source": [
    "Create a function that reverses a boolean value and returns the string &quot;boolean expected&quot;\n",
    "if another variable type is given."
   ]
  },
  {
   "cell_type": "code",
   "execution_count": 43,
   "id": "d6e9dce8",
   "metadata": {},
   "outputs": [
    {
     "data": {
      "text/plain": [
       "(False, True, 'Boolean expected')"
      ]
     },
     "execution_count": 43,
     "metadata": {},
     "output_type": "execute_result"
    }
   ],
   "source": [
    "def reverse(s):\n",
    "    if (s==True):\n",
    "        return False\n",
    "    elif(s==False):\n",
    "        return True\n",
    "    else:\n",
    "        return (\"Boolean expected\")\n",
    "reverse(True),reverse(False),reverse(int)"
   ]
  },
  {
   "cell_type": "markdown",
   "id": "1edfe4a3",
   "metadata": {},
   "source": [
    "Create a function that returns the thickness (in meters) of a piece of paper after folding it n\n",
    "number of times. The paper starts off with a thickness of 0.5mm.\n",
    "\n",
    "num_layers(1) ➞ &quot;0.001m&quot;\n",
    " Paper folded once is 1mm (equal to 0.001m)\n",
    "\n",
    "num_layers(4) ➞ &quot;0.008m&quot;\n",
    " Paper folded 4 times is 8mm (equal to 0.008m)\n",
    "\n",
    "num_layers(21) ➞ &quot;1048.576m&quot;\n",
    " Paper folded 21 times is 1048576mm (equal to 1048.576m)"
   ]
  },
  {
   "cell_type": "code",
   "execution_count": 87,
   "id": "4c7a8539",
   "metadata": {},
   "outputs": [
    {
     "data": {
      "text/plain": [
       "(1048576.0, 'mm')"
      ]
     },
     "execution_count": 87,
     "metadata": {},
     "output_type": "execute_result"
    }
   ],
   "source": [
    "# Thicknesss=(2**N)*t\n",
    "def num_layers(n):\n",
    "    t=0.5  \n",
    "    return ((2**n)*(t),'mm')\n",
    "num_layers(21)"
   ]
  },
  {
   "cell_type": "markdown",
   "id": "a6eb7ae2",
   "metadata": {},
   "source": [
    "Create a function that takes a single string as argument and returns an ordered list containing\n",
    "the indices of all capital letters in the string.\n",
    "\n",
    "index_of_caps(&quot;eDaBiT&quot;) ➞ [1, 3, 5]\n",
    "\n",
    "index_of_caps(&quot;eQuINoX&quot;) ➞ [1, 3, 4, 6]"
   ]
  },
  {
   "cell_type": "code",
   "execution_count": 70,
   "id": "fae85c3e",
   "metadata": {},
   "outputs": [
    {
     "data": {
      "text/plain": [
       "([1, 3, 4], [1, 3, 4, 6])"
      ]
     },
     "execution_count": 70,
     "metadata": {},
     "output_type": "execute_result"
    }
   ],
   "source": [
    "def index_of_caps(s):\n",
    "    list_of_index=[]\n",
    "    for i in range(0,len(s)):\n",
    "        if(s[i].isupper()):\n",
    "            list_of_index.append(i)\n",
    "    return list_of_index\n",
    "index_of_caps(\"sAuRA\"),index_of_caps(\"eQuINoX\")"
   ]
  },
  {
   "cell_type": "code",
   "execution_count": null,
   "id": "3b6d47b5",
   "metadata": {},
   "outputs": [],
   "source": []
  },
  {
   "cell_type": "markdown",
   "id": "fd18dd97",
   "metadata": {},
   "source": [
    "Using list comprehensions, create a function that finds all even numbers from 1 to the given\n",
    "number.\n",
    "\n",
    "Examples\n",
    "\n",
    "find_even_nums(8) ➞ [2, 4, 6, 8]\n",
    "\n",
    "find_even_nums(4) ➞ [2, 4]\n",
    "\n",
    "find_even_nums(2) ➞ [2]"
   ]
  },
  {
   "cell_type": "code",
   "execution_count": 1,
   "id": "ef2c10e8",
   "metadata": {},
   "outputs": [
    {
     "data": {
      "text/plain": [
       "[2, 4, 6, 8]"
      ]
     },
     "execution_count": 1,
     "metadata": {},
     "output_type": "execute_result"
    }
   ],
   "source": [
    "def find_even_nums(n):\n",
    "    k=[i for i in range(1,n+1) if i%2==0]\n",
    "    return k\n",
    "find_even_nums(8) "
   ]
  }
 ],
 "metadata": {
  "kernelspec": {
   "display_name": "Python 3",
   "language": "python",
   "name": "python3"
  },
  "language_info": {
   "codemirror_mode": {
    "name": "ipython",
    "version": 3
   },
   "file_extension": ".py",
   "mimetype": "text/x-python",
   "name": "python",
   "nbconvert_exporter": "python",
   "pygments_lexer": "ipython3",
   "version": "3.8.8"
  }
 },
 "nbformat": 4,
 "nbformat_minor": 5
}
