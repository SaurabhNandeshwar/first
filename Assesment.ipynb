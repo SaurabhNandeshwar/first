{
 "cells": [
  {
   "cell_type": "code",
   "execution_count": 8,
   "id": "b2fcc709",
   "metadata": {},
   "outputs": [
    {
     "name": "stdout",
     "output_type": "stream",
     "text": [
      "original file content: ['This is a placement assignment']\n",
      "after splitting : ['This', 'is', 'a', 'placement', 'assignment']\n",
      "enter the string to be replaced: placement\n",
      "enter the string to be replaced with: screening\n",
      "This is a screening assignment \n"
     ]
    }
   ],
   "source": [
    "with open('example.txt','w') as f:\n",
    "    f.write('This is a placement assignment')\n",
    "\n",
    "f1=open('example.txt','r')\n",
    "k1=f1.readlines()\n",
    "print(\"original file content:\",k1)\n",
    "j=k1[0].split()                                               #return a list\n",
    "print(\"after splitting :\",j)\n",
    "idx=j.index(input('enter the string to be replaced: '))       # finding the index of string to be replaced\n",
    "j[idx]=input('enter the string to be replaced with: ')        # storing new string in index of original string\n",
    "string=\"\"\n",
    "for i in j:\n",
    "    string=string+i+\" \"\n",
    "\n",
    "\n",
    "f=open('example.txt','w')\n",
    "f.write(string)                                              # writing replaced sentence\n",
    "\n",
    "with open('example.txt','r') as f:\n",
    "    print(f.readline())"
   ]
  },
  {
   "cell_type": "code",
   "execution_count": 9,
   "id": "5d162841",
   "metadata": {},
   "outputs": [],
   "source": [
    "from abc import ABC, abstractmethod\n",
    "\n",
    "class shape(ABC):\n",
    "    @abstractmethod\n",
    "    def printarea(self):\n",
    "        pass\n",
    "class Square(ABC):\n",
    "    @abstractmethod\n",
    "    def print_something(self):\n",
    "        print(\"i'am a square\")\n",
    "class Rectangle(shape,Square):\n",
    "    def printarea(self):\n",
    "        print(\"my area is length* breadth\")\n",
    "    def print_something(self):\n",
    "        print(\" i am a rectangle\")\n",
    "    "
   ]
  },
  {
   "cell_type": "code",
   "execution_count": 10,
   "id": "9a23b7e2",
   "metadata": {},
   "outputs": [],
   "source": [
    "r=Rectangle()"
   ]
  },
  {
   "cell_type": "code",
   "execution_count": 11,
   "id": "a0da6096",
   "metadata": {},
   "outputs": [
    {
     "name": "stdout",
     "output_type": "stream",
     "text": [
      " i am a rectangle\n"
     ]
    }
   ],
   "source": [
    "r.print_something()"
   ]
  },
  {
   "cell_type": "markdown",
   "id": "1cb30e2e",
   "metadata": {},
   "source": [
    "Decorator"
   ]
  },
  {
   "cell_type": "code",
   "execution_count": 15,
   "id": "892f0a42",
   "metadata": {},
   "outputs": [],
   "source": [
    "def make_pretty(func):\n",
    "    def inner():\n",
    "        print(\"I got decorated\")\n",
    "        func()\n",
    "    return inner\n",
    "\n",
    "@make_pretty                                      # ordinary=make_pretty(ordinary)\n",
    "def ordinary():\n",
    "    print(\"I am ordinary\")"
   ]
  },
  {
   "cell_type": "code",
   "execution_count": 19,
   "id": "3058cbdc",
   "metadata": {},
   "outputs": [
    {
     "name": "stdout",
     "output_type": "stream",
     "text": [
      "I got decorated\n",
      "I am ordinary\n"
     ]
    }
   ],
   "source": [
    "ordinary()"
   ]
  },
  {
   "cell_type": "code",
   "execution_count": null,
   "id": "856c5a39",
   "metadata": {},
   "outputs": [],
   "source": []
  }
 ],
 "metadata": {
  "kernelspec": {
   "display_name": "Python 3",
   "language": "python",
   "name": "python3"
  },
  "language_info": {
   "codemirror_mode": {
    "name": "ipython",
    "version": 3
   },
   "file_extension": ".py",
   "mimetype": "text/x-python",
   "name": "python",
   "nbconvert_exporter": "python",
   "pygments_lexer": "ipython3",
   "version": "3.8.8"
  }
 },
 "nbformat": 4,
 "nbformat_minor": 5
}
