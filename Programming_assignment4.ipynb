{
 "cells": [
  {
   "cell_type": "code",
   "execution_count": 6,
   "id": "8bac64c9",
   "metadata": {},
   "outputs": [
    {
     "name": "stdout",
     "output_type": "stream",
     "text": [
      "7\n"
     ]
    },
    {
     "data": {
      "text/plain": [
       "5040"
      ]
     },
     "execution_count": 6,
     "metadata": {},
     "output_type": "execute_result"
    }
   ],
   "source": [
    "#factorial of a num\n",
    "n=int(input())\n",
    "fact=1\n",
    "for i in range(1,n+1):\n",
    "    fact=fact*i\n",
    "\n",
    "fact\n"
   ]
  },
  {
   "cell_type": "code",
   "execution_count": 9,
   "id": "5fcbd956",
   "metadata": {},
   "outputs": [
    {
     "name": "stdout",
     "output_type": "stream",
     "text": [
      "enter the num: 7\n",
      "7\n",
      "14\n",
      "21\n",
      "28\n",
      "35\n",
      "42\n",
      "49\n",
      "56\n",
      "63\n",
      "70\n"
     ]
    }
   ],
   "source": [
    "#multiplication table\n",
    "n=int(input(\"enter the num: \"))\n",
    "for i in range(1,11):\n",
    "    print(n*i)"
   ]
  },
  {
   "cell_type": "code",
   "execution_count": 18,
   "id": "b9fcba86",
   "metadata": {},
   "outputs": [
    {
     "name": "stdout",
     "output_type": "stream",
     "text": [
      "enter the num: 1\n",
      "0\n",
      "1\n",
      "1\n"
     ]
    }
   ],
   "source": [
    "#fibonacci sequence  (0,1,1,2,3,5,8,13,21)\n",
    "n=int(input(\"enter the num: \"))\n",
    "a=0\n",
    "b=1\n",
    "print(a)\n",
    "print(b)\n",
    "for i in range(n):\n",
    "    c=a+b\n",
    "    print(c)\n",
    "    a=b\n",
    "    b=c"
   ]
  },
  {
   "cell_type": "code",
   "execution_count": 32,
   "id": "643620f8",
   "metadata": {},
   "outputs": [
    {
     "name": "stdout",
     "output_type": "stream",
     "text": [
      "enter the num: 153\n",
      "153\n",
      "armstrong number\n"
     ]
    }
   ],
   "source": [
    "#armstrong number (sum of power of digits is equal to num .ex 153)\n",
    "n=(input(\"enter the num: \"))\n",
    "length=len(n)\n",
    "sum=0\n",
    "for i in range(length):\n",
    "    sum= sum+ pow(int(n[i]),length)\n",
    "print(sum)\n",
    "if(sum==int(n)):\n",
    "    print(\"armstrong number\")\n",
    "else:\n",
    "    print(\"not an armstrong number\")"
   ]
  },
  {
   "cell_type": "code",
   "execution_count": 39,
   "id": "c7b26fc9",
   "metadata": {},
   "outputs": [
    {
     "name": "stdout",
     "output_type": "stream",
     "text": [
      "1\n",
      "2\n",
      "3\n",
      "4\n",
      "5\n",
      "6\n",
      "7\n",
      "8\n",
      "9\n",
      "153\n",
      "370\n",
      "371\n",
      "407\n",
      "1634\n"
     ]
    }
   ],
   "source": [
    "#armstrong number in an interval\n",
    "\n",
    "def armstrong(n):\n",
    "    length=len(n)\n",
    "    sum=0\n",
    "    for i in range(length):\n",
    "        sum= sum+ pow(int(n[i]),length)\n",
    "    \n",
    "    if(sum==int(n)):\n",
    "        return(1)\n",
    "    else:\n",
    "        return(0)\n",
    "        \n",
    "\n",
    "for i in range(1,2000):\n",
    "    if(armstrong(str(i))==1):\n",
    "        print(i)"
   ]
  },
  {
   "cell_type": "code",
   "execution_count": 30,
   "id": "ed6618df",
   "metadata": {},
   "outputs": [
    {
     "name": "stdout",
     "output_type": "stream",
     "text": [
      "enter the num: 10\n",
      "55\n"
     ]
    }
   ],
   "source": [
    "#sum of n natural numbers\n",
    "n=int(input(\"enter the num: \"))\n",
    "sum=0\n",
    "for i in range(1,n+1):\n",
    "    sum=sum+i\n",
    "print(sum)"
   ]
  },
  {
   "cell_type": "code",
   "execution_count": null,
   "id": "2645c7b8",
   "metadata": {},
   "outputs": [],
   "source": []
  }
 ],
 "metadata": {
  "kernelspec": {
   "display_name": "Python 3",
   "language": "python",
   "name": "python3"
  },
  "language_info": {
   "codemirror_mode": {
    "name": "ipython",
    "version": 3
   },
   "file_extension": ".py",
   "mimetype": "text/x-python",
   "name": "python",
   "nbconvert_exporter": "python",
   "pygments_lexer": "ipython3",
   "version": "3.8.8"
  }
 },
 "nbformat": 4,
 "nbformat_minor": 5
}
