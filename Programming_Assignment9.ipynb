{
 "cells": [
  {
   "cell_type": "markdown",
   "id": "ca938717",
   "metadata": {},
   "source": [
    "1. Write a Python program to check if the given number is a Disarium Number?"
   ]
  },
  {
   "cell_type": "markdown",
   "id": "b8e82bd4",
   "metadata": {},
   "source": [
    "METHOD 1:"
   ]
  },
  {
   "cell_type": "code",
   "execution_count": 57,
   "id": "ce8943fa",
   "metadata": {},
   "outputs": [
    {
     "name": "stdout",
     "output_type": "stream",
     "text": [
      "enter the num: 89\n",
      "['8', '9']\n",
      " length of number is :  2\n",
      " sum of input number is : 89\n",
      "Disarium number\n"
     ]
    }
   ],
   "source": [
    "# Disarium Number : if sum of its digits powered with their respective positions is equal to the number itself.\n",
    "n=(input('enter the num: '))\n",
    "list_n=list(n)\n",
    "print(list_n)\n",
    "length=(len(list_n))\n",
    "print(\" length of number is : \",length)\n",
    "sum1=0\n",
    "for i in range(0,length):\n",
    "    sum1 = sum1 + int(list_n[i])**(i+1)\n",
    "print(\" sum of input number is :\",sum1)\n",
    "if(sum1==int(n)):\n",
    "     print(\"Disarium number\")\n",
    "else:\n",
    "    print(\" not \")"
   ]
  },
  {
   "cell_type": "markdown",
   "id": "befe8830",
   "metadata": {},
   "source": [
    "Method 2:"
   ]
  },
  {
   "cell_type": "code",
   "execution_count": 67,
   "id": "d72f2342",
   "metadata": {},
   "outputs": [
    {
     "name": "stdout",
     "output_type": "stream",
     "text": [
      "enter the num: 1238\n",
      "['1', '2', '3', '8']\n",
      "[1, 4, 27, 4096]\n",
      " not Disarium number \n"
     ]
    }
   ],
   "source": [
    "n=int(input('enter the num: '))\n",
    "l1=list(str(n))\n",
    "print(l1)\n",
    "l2=[]\n",
    "for i in range(0,len(l1)) :\n",
    "    l2.append(int(l1[i])**(i+1))\n",
    "print(l2)\n",
    "if(n==sum(l2)):\n",
    "    print(\"Disarium number\")\n",
    "else:\n",
    "    print(\" not Disarium number \")  "
   ]
  },
  {
   "cell_type": "markdown",
   "id": "03b5837f",
   "metadata": {},
   "source": [
    "2. Write a Python program to print all disarium numbers between 1 to 100?"
   ]
  },
  {
   "cell_type": "code",
   "execution_count": 73,
   "id": "2880b81f",
   "metadata": {},
   "outputs": [],
   "source": [
    "def check_disarium(n):\n",
    "    \n",
    "    l1=list(str(n))\n",
    "   \n",
    "    l2=[]\n",
    "    for i in range(0,len(l1)) :\n",
    "        l2.append(int(l1[i])**(i+1))\n",
    "    \n",
    "    if(n==sum(l2)):\n",
    "        print(\"Disarium number :  \", n)\n",
    "    "
   ]
  },
  {
   "cell_type": "code",
   "execution_count": 75,
   "id": "8a16c858",
   "metadata": {},
   "outputs": [
    {
     "name": "stdout",
     "output_type": "stream",
     "text": [
      "Disarium number :   1\n",
      "Disarium number :   2\n",
      "Disarium number :   3\n",
      "Disarium number :   4\n",
      "Disarium number :   5\n",
      "Disarium number :   6\n",
      "Disarium number :   7\n",
      "Disarium number :   8\n",
      "Disarium number :   9\n",
      "Disarium number :   89\n",
      "Disarium number :   135\n",
      "Disarium number :   175\n",
      "Disarium number :   518\n",
      "Disarium number :   598\n"
     ]
    }
   ],
   "source": [
    "for i in range(1,1001):\n",
    "    check_disarium(i)"
   ]
  },
  {
   "cell_type": "markdown",
   "id": "97917283",
   "metadata": {},
   "source": [
    "3. Write a Python program to check if the given number is Happy Number?"
   ]
  },
  {
   "cell_type": "code",
   "execution_count": null,
   "id": "c66a15a9",
   "metadata": {},
   "outputs": [],
   "source": [
    "def Happy_number(n):\n",
    "    sum,rem=0,0\n",
    "    while( n>0):\n",
    "        rem=n%10\n",
    "        sum=sum +(rem**2)\n",
    "        n=(n//10)\n",
    "    return n\n",
    "output=n\n",
    "while(output not in [1,7,10,13,19] and output != 4):\n",
    "    output = Happy_number(output);\n",
    "print(\"The number is being checked\")\n",
    "if(output == 1 ):\n",
    "    print(n + \" is a happy number\")\n",
    "elif(output == 4):\n",
    "    print(n + \" isn't a happy number\")  \n",
    "    \n"
   ]
  },
  {
   "cell_type": "code",
   "execution_count": null,
   "id": "e0d323ec",
   "metadata": {},
   "outputs": [],
   "source": [
    "Happy_number(86)"
   ]
  },
  {
   "cell_type": "markdown",
   "id": "3fbe9f27",
   "metadata": {},
   "source": []
  },
  {
   "cell_type": "markdown",
   "id": "14652e90",
   "metadata": {},
   "source": [
    "5. Write a Python program to determine whether the given number is a Harshad Number?"
   ]
  },
  {
   "cell_type": "code",
   "execution_count": 130,
   "id": "8b5bba1f",
   "metadata": {},
   "outputs": [],
   "source": [
    "# harshad number : if a number is divisible by the sum of its digits, then it will be known as a Harshad Number.\n",
    "\n",
    "def harshad_number(n):\n",
    "    k=n   # value of n is change further so store it in other variable.\n",
    "    sum=rem=0\n",
    "    while(n>0):\n",
    "        rem=n%10\n",
    "        sum=sum+rem\n",
    "        n=int(n/10)\n",
    "    print(\"sum of the digits is: \",sum)\n",
    "    \n",
    "    if (k/sum==0):\n",
    "        print(\"  Harshad number\")\n",
    "    else:\n",
    "        print(\" not harshad number \")"
   ]
  },
  {
   "cell_type": "code",
   "execution_count": 132,
   "id": "b9530237",
   "metadata": {},
   "outputs": [
    {
     "name": "stdout",
     "output_type": "stream",
     "text": [
      "sum of the digits is:  19\n",
      " not harshad number \n"
     ]
    }
   ],
   "source": [
    "harshad_number(13645)"
   ]
  },
  {
   "cell_type": "markdown",
   "id": "56b686cb",
   "metadata": {},
   "source": [
    "6. Write a Python program to print all pronic numbers between 1 and 100?"
   ]
  },
  {
   "cell_type": "code",
   "execution_count": 149,
   "id": "69af300d",
   "metadata": {},
   "outputs": [],
   "source": [
    "def Pronic_number(n):\n",
    "    s=int(n**0.5)\n",
    "    #print(s)\n",
    "    #print(s*(s+1))\n",
    "    if(s*(s+1)==n):\n",
    "        return(\"pronic number\")\n",
    "    else:\n",
    "        return(\"not pronic number\")"
   ]
  },
  {
   "cell_type": "code",
   "execution_count": 152,
   "id": "f7b8af81",
   "metadata": {},
   "outputs": [
    {
     "data": {
      "text/plain": [
       "'pronic number'"
      ]
     },
     "execution_count": 152,
     "metadata": {},
     "output_type": "execute_result"
    }
   ],
   "source": [
    "Pronic_number(72) "
   ]
  },
  {
   "cell_type": "code",
   "execution_count": 151,
   "id": "c60dc982",
   "metadata": {},
   "outputs": [
    {
     "name": "stdout",
     "output_type": "stream",
     "text": [
      "2\n",
      "6\n",
      "12\n",
      "20\n",
      "30\n",
      "42\n",
      "56\n",
      "72\n",
      "90\n"
     ]
    }
   ],
   "source": [
    "for i in range(1,101):\n",
    "    if(Pronic_number(i)==\"pronic number\"):\n",
    "        print(i)"
   ]
  },
  {
   "cell_type": "code",
   "execution_count": null,
   "id": "fa6073a6",
   "metadata": {},
   "outputs": [],
   "source": []
  }
 ],
 "metadata": {
  "kernelspec": {
   "display_name": "Python 3",
   "language": "python",
   "name": "python3"
  },
  "language_info": {
   "codemirror_mode": {
    "name": "ipython",
    "version": 3
   },
   "file_extension": ".py",
   "mimetype": "text/x-python",
   "name": "python",
   "nbconvert_exporter": "python",
   "pygments_lexer": "ipython3",
   "version": "3.8.8"
  }
 },
 "nbformat": 4,
 "nbformat_minor": 5
}
