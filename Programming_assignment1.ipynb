{
 "cells": [
  {
   "cell_type": "code",
   "execution_count": 1,
   "id": "1e07e2dd",
   "metadata": {},
   "outputs": [
    {
     "name": "stdout",
     "output_type": "stream",
     "text": [
      "hello world\n"
     ]
    }
   ],
   "source": [
    "#print hello world\n",
    "print(\"hello world\")"
   ]
  },
  {
   "cell_type": "code",
   "execution_count": 17,
   "id": "02673127",
   "metadata": {},
   "outputs": [],
   "source": [
    "# add and div\n",
    "def add(a,b):\n",
    "    return (a+b)\n",
    "def div(a,b):\n",
    "    return (a/b)\n"
   ]
  },
  {
   "cell_type": "code",
   "execution_count": 18,
   "id": "c1d4af32",
   "metadata": {},
   "outputs": [],
   "source": [
    "f=add(3,4)"
   ]
  },
  {
   "cell_type": "code",
   "execution_count": 19,
   "id": "73a204fc",
   "metadata": {},
   "outputs": [
    {
     "data": {
      "text/plain": [
       "7"
      ]
     },
     "execution_count": 19,
     "metadata": {},
     "output_type": "execute_result"
    }
   ],
   "source": [
    "f"
   ]
  },
  {
   "cell_type": "code",
   "execution_count": 20,
   "id": "2f196ffc",
   "metadata": {},
   "outputs": [
    {
     "data": {
      "text/plain": [
       "2.0"
      ]
     },
     "execution_count": 20,
     "metadata": {},
     "output_type": "execute_result"
    }
   ],
   "source": [
    "g=div(10,5)\n",
    "g"
   ]
  },
  {
   "cell_type": "code",
   "execution_count": 21,
   "id": "dcc11fd6",
   "metadata": {},
   "outputs": [
    {
     "data": {
      "text/plain": [
       "5.0"
      ]
     },
     "execution_count": 21,
     "metadata": {},
     "output_type": "execute_result"
    }
   ],
   "source": [
    "# area of triangle\n",
    "def area(base,height):\n",
    "    return (0.5*base*height)\n",
    "k=area(2,5)\n",
    "k"
   ]
  },
  {
   "cell_type": "code",
   "execution_count": 26,
   "id": "4cff37d1",
   "metadata": {},
   "outputs": [
    {
     "name": "stdout",
     "output_type": "stream",
     "text": [
      "swapped  value of a is :  7\n",
      "swapped  value of b is :  4\n"
     ]
    }
   ],
   "source": [
    "# swap 2 variable\n",
    "a=4\n",
    "b=7\n",
    "c=a  # using third variable c\n",
    "a=b  # storing b value in a\n",
    "b=c   #storing c in b\n",
    "print(\"swapped  value of a is : \",a)\n",
    "print(\"swapped  value of b is : \",b)"
   ]
  },
  {
   "cell_type": "code",
   "execution_count": 28,
   "id": "cda9373f",
   "metadata": {},
   "outputs": [],
   "source": [
    "# generate random variable\n",
    "import random"
   ]
  },
  {
   "cell_type": "code",
   "execution_count": 29,
   "id": "44386f5e",
   "metadata": {},
   "outputs": [
    {
     "data": {
      "text/plain": [
       "82"
      ]
     },
     "execution_count": 29,
     "metadata": {},
     "output_type": "execute_result"
    }
   ],
   "source": [
    "random.randint(1,100)"
   ]
  },
  {
   "cell_type": "code",
   "execution_count": null,
   "id": "00068754",
   "metadata": {},
   "outputs": [],
   "source": []
  }
 ],
 "metadata": {
  "kernelspec": {
   "display_name": "Python 3",
   "language": "python",
   "name": "python3"
  },
  "language_info": {
   "codemirror_mode": {
    "name": "ipython",
    "version": 3
   },
   "file_extension": ".py",
   "mimetype": "text/x-python",
   "name": "python",
   "nbconvert_exporter": "python",
   "pygments_lexer": "ipython3",
   "version": "3.8.8"
  }
 },
 "nbformat": 4,
 "nbformat_minor": 5
}
