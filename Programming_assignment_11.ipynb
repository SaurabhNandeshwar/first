{
 "cells": [
  {
   "cell_type": "markdown",
   "id": "e7fc2623",
   "metadata": {},
   "source": [
    "1. Write a Python program to find words which are greater than given length k?\n"
   ]
  },
  {
   "cell_type": "code",
   "execution_count": 18,
   "id": "190e2443",
   "metadata": {},
   "outputs": [
    {
     "name": "stdout",
     "output_type": "stream",
     "text": [
      "enter the number :4\n"
     ]
    },
    {
     "data": {
      "text/plain": [
       "['write', 'python', 'program', 'words']"
      ]
     },
     "execution_count": 18,
     "metadata": {},
     "output_type": "execute_result"
    }
   ],
   "source": [
    "k=int(input(\"enter the number :\"))\n",
    "st = \"write a python program to find words\"\n",
    "l=(st).split(' ')\n",
    "[i for i in l if len(i)>k]"
   ]
  },
  {
   "cell_type": "markdown",
   "id": "6ab9c8f8",
   "metadata": {},
   "source": [
    "2. Write a Python program for removing i-th character from a string?"
   ]
  },
  {
   "cell_type": "code",
   "execution_count": 29,
   "id": "b2c3a8c4",
   "metadata": {},
   "outputs": [
    {
     "name": "stdout",
     "output_type": "stream",
     "text": [
      "enter the ith number :3\n",
      "char to be removed is  i\n",
      "wrte a python program to find words\n"
     ]
    }
   ],
   "source": [
    "i=int(input(\"enter the ith number :\"))\n",
    "st = \"write a python program to find words\"\n",
    "print(\"char to be removed is \",st[i-1])\n",
    "st1=st[0:i-1]\n",
    "st2=st[i:]\n",
    "print(st1+st2)"
   ]
  },
  {
   "cell_type": "markdown",
   "id": "2ed0640f",
   "metadata": {},
   "source": [
    "3. Write a Python program to split and join a string?\n"
   ]
  },
  {
   "cell_type": "code",
   "execution_count": 37,
   "id": "797b3244",
   "metadata": {},
   "outputs": [
    {
     "name": "stdout",
     "output_type": "stream",
     "text": [
      "['write', 'a', 'python', 'program', 'to', 'find', 'words']\n"
     ]
    },
    {
     "data": {
      "text/plain": [
       "'write-a-python-program-to-find-words'"
      ]
     },
     "execution_count": 37,
     "metadata": {},
     "output_type": "execute_result"
    }
   ],
   "source": [
    "st = \"write a python program to find words\"\n",
    "k=st.split()\n",
    "print(k)\n",
    "string = '-'.join(k)\n",
    "string"
   ]
  },
  {
   "cell_type": "markdown",
   "id": "c9e89e02",
   "metadata": {},
   "source": [
    "4. Write a Python to check if a given string is binary string or not?\n"
   ]
  },
  {
   "cell_type": "code",
   "execution_count": 47,
   "id": "5873a190",
   "metadata": {},
   "outputs": [
    {
     "name": "stdout",
     "output_type": "stream",
     "text": [
      " enter the string : 5165495\n",
      " not binary string\n"
     ]
    }
   ],
   "source": [
    "c={'0','1'}\n",
    "check_String=set(input(\" enter the string : \"))\n",
    "if( check_String==c or check_String=={0} or check_String=={1}):\n",
    "    print(\"  binary string\")\n",
    "else:\n",
    "    print(\" not binary string\")"
   ]
  },
  {
   "cell_type": "markdown",
   "id": "5ff79292",
   "metadata": {},
   "source": [
    "5. Write a Python program to find uncommon words from two Strings?\n"
   ]
  },
  {
   "cell_type": "code",
   "execution_count": 54,
   "id": "33951e17",
   "metadata": {},
   "outputs": [
    {
     "name": "stdout",
     "output_type": "stream",
     "text": [
      "enter the string 1: hello my name is carry\n",
      "enter the string 2: hello carry\n",
      "my\n",
      "name\n",
      "is\n"
     ]
    }
   ],
   "source": [
    "str1=input(\"enter the string 1: \")\n",
    "str2=input(\"enter the string 2: \")\n",
    "\n",
    "for i in str1.split():\n",
    "      if (i not in str2):\n",
    "          print(i)\n",
    "for j in str2.split():\n",
    "      if (i not in str1):\n",
    "          print(j)\n"
   ]
  },
  {
   "cell_type": "markdown",
   "id": "5010de78",
   "metadata": {},
   "source": [
    "6. Write a Python to find all duplicate characters in string?\n"
   ]
  },
  {
   "cell_type": "code",
   "execution_count": 92,
   "id": "4c8d85f2",
   "metadata": {},
   "outputs": [
    {
     "name": "stdout",
     "output_type": "stream",
     "text": [
      "{'l', 'r', 'e', ' ', 'y', 'a', 'm'}\n"
     ]
    }
   ],
   "source": [
    "st=\"hello my name is carry\"\n",
    "l=[]\n",
    "for i in st:\n",
    "    count=0\n",
    "    for j in st[st.index(i):]:\n",
    "        \n",
    "        if(i==j):\n",
    "            count=count+1\n",
    "    if(count>1):\n",
    "        l.append(i)\n",
    "print(set(l))"
   ]
  },
  {
   "cell_type": "markdown",
   "id": "58aec40a",
   "metadata": {},
   "source": [
    "7. Write a Python Program to check if a string contains any special character?"
   ]
  },
  {
   "cell_type": "code",
   "execution_count": 106,
   "id": "7077d87b",
   "metadata": {},
   "outputs": [],
   "source": [
    "special_char=\"!@#$%^&*:'',./\"\n",
    "\n",
    "def check_char(check):\n",
    "    count=0\n",
    "    for i in check:\n",
    "        if (i in special_char):\n",
    "            count=count+1\n",
    "    if(count >1):\n",
    "        return(\" string contains special char\")\n",
    "    else:\n",
    "        return(\" string does not contains special char\")\n"
   ]
  },
  {
   "cell_type": "code",
   "execution_count": 110,
   "id": "ea07dc36",
   "metadata": {},
   "outputs": [
    {
     "data": {
      "text/plain": [
       "' string contains special char'"
      ]
     },
     "execution_count": 110,
     "metadata": {},
     "output_type": "execute_result"
    }
   ],
   "source": [
    "check_char(\"hello%^#\")"
   ]
  }
 ],
 "metadata": {
  "kernelspec": {
   "display_name": "Python 3",
   "language": "python",
   "name": "python3"
  },
  "language_info": {
   "codemirror_mode": {
    "name": "ipython",
    "version": 3
   },
   "file_extension": ".py",
   "mimetype": "text/x-python",
   "name": "python",
   "nbconvert_exporter": "python",
   "pygments_lexer": "ipython3",
   "version": "3.8.8"
  }
 },
 "nbformat": 4,
 "nbformat_minor": 5
}
