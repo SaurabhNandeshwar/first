{
 "cells": [
  {
   "cell_type": "markdown",
   "id": "60fee1a8",
   "metadata": {},
   "source": [
    "Question1. Write a function that stutters a word as if someone is struggling to read it. The\n",
    "first two letters are repeated twice with an ellipsis ... and space after each, and then the\n",
    "word is pronounced with a question mark ?.\n",
    "\n",
    "Examples\n",
    "\n",
    "stutter(&quot;incredible&quot;) ➞ &quot;in... in... incredible?&quot;\n",
    "\n",
    "stutter(&quot;enthusiastic&quot;) ➞ &quot;en... en... enthusiastic?&quot;\n",
    "\n",
    "stutter(&quot;outstanding&quot;) ➞ &quot;ou... ou... outstanding?&quot;\n",
    "\n",
    "\n",
    "Hint :- Assume all input is in lower case and at least two characters long."
   ]
  },
  {
   "cell_type": "code",
   "execution_count": 11,
   "id": "944f622b",
   "metadata": {},
   "outputs": [
    {
     "name": "stdout",
     "output_type": "stream",
     "text": [
      "enter the string: saurabh\n",
      "\" \n",
      "s\n",
      "a\n",
      "... \n",
      "s\n",
      "a\n",
      "... \n",
      "saurabh ?\"\n"
     ]
    }
   ],
   "source": [
    "st=input(\"enter the string: \")\n",
    "print('''\" ''')\n",
    "for i in st[0:2]:\n",
    "    for i in st[0:2]:\n",
    "        print(i)\n",
    "    print(\"... \")\n",
    "print(st,'''?\"''')"
   ]
  },
  {
   "cell_type": "markdown",
   "id": "4f5bf4f9",
   "metadata": {},
   "source": [
    "Question 2.Create a function that takes an angle in radians and returns the corresponding\n",
    "angle in degrees rounded to one decimal place.\n",
    "\n",
    "Examples\n",
    "\n",
    "radians_to_degrees(1) ➞ 57.3"
   ]
  },
  {
   "cell_type": "code",
   "execution_count": 25,
   "id": "7d434c4e",
   "metadata": {},
   "outputs": [
    {
     "data": {
      "text/plain": [
       "4813.2"
      ]
     },
     "execution_count": 25,
     "metadata": {},
     "output_type": "execute_result"
    }
   ],
   "source": [
    "def radians_to_degrees(rad):\n",
    "    return(rad*57.3)\n",
    "radians_to_degrees(84)"
   ]
  },
  {
   "cell_type": "markdown",
   "id": "21e014ce",
   "metadata": {},
   "source": [
    "Question 3. In this challenge, establish if a given integer num is a Curzon number. If 1 plus\n",
    "2 elevated to num is exactly divisible by 1 plus 2 multiplied by num, then num is a Curzon\n",
    "number.\n",
    "\n",
    "Given a non-negative integer num, implement a function that returns True if num is a Curzon\n",
    "number, or False otherwise.\n",
    "\n",
    "Examples\n",
    "\n",
    "is_curzon(5) ➞ True\n",
    "\n",
    "2 ** 5 + 1 = 33\n",
    "\n",
    "2 * 5 + 1 = 11\n",
    "\n",
    "33 is a multiple of 11\n",
    "\n",
    "is_curzon(10) ➞ False\n",
    "\n",
    "2 ** 10 + 1 = 1025\n",
    "\n",
    "2 * 10 + 1 = 21\n",
    "\n",
    "1025 is not a multiple of 21"
   ]
  },
  {
   "cell_type": "code",
   "execution_count": 31,
   "id": "4c28b5bd",
   "metadata": {},
   "outputs": [],
   "source": [
    "# curzon number\n",
    "def is_curzon(n):\n",
    "    n1=2**n+1\n",
    "    n2=2*n+1\n",
    "    print(n1,n2)\n",
    "    if(n1%n2==0):\n",
    "        print(\"curzon number\")\n",
    "    else:\n",
    "        print(\"not curzon number\")"
   ]
  },
  {
   "cell_type": "code",
   "execution_count": 33,
   "id": "7c84305e",
   "metadata": {},
   "outputs": [
    {
     "name": "stdout",
     "output_type": "stream",
     "text": [
      "10\n",
      "1025 21\n",
      "not curzon number\n"
     ]
    }
   ],
   "source": [
    "is_curzon(int(input()))\n"
   ]
  },
  {
   "cell_type": "markdown",
   "id": "4888d7b1",
   "metadata": {},
   "source": [
    "4.Given the side length x find the area of a hexagon."
   ]
  },
  {
   "cell_type": "code",
   "execution_count": 38,
   "id": "9ec4de9b",
   "metadata": {},
   "outputs": [
    {
     "data": {
      "text/plain": [
       "2.5"
      ]
     },
     "execution_count": 38,
     "metadata": {},
     "output_type": "execute_result"
    }
   ],
   "source": [
    "def area_hexagon(n):\n",
    "    return(round(3*pow(3,0.5)*(n**2))/2)\n",
    "area_hexagon(1)"
   ]
  },
  {
   "cell_type": "markdown",
   "id": "414a04ef",
   "metadata": {},
   "source": [
    "5. Create a function that returns a base-2 (binary) representation of a base-10\n",
    "(decimal) string number.\n",
    "\n",
    "binary(1) ➞ &quot;1&quot;\n",
    "\n",
    "\n",
    "binary(5) ➞ &quot;101&quot;\n",
    "\n"
   ]
  },
  {
   "cell_type": "code",
   "execution_count": 57,
   "id": "e54dc3ed",
   "metadata": {},
   "outputs": [
    {
     "data": {
      "text/plain": [
       "[1, 1, 0]"
      ]
     },
     "execution_count": 57,
     "metadata": {},
     "output_type": "execute_result"
    }
   ],
   "source": [
    "def bin(n):\n",
    "    l1=[]\n",
    "    #i=0\n",
    "    while(n>0):\n",
    "        l1.append( n % 2)\n",
    "        n=int(n/2)\n",
    "        #i=i+1\n",
    "    return(l1[::-1])\n",
    "bin(6)"
   ]
  },
  {
   "cell_type": "code",
   "execution_count": null,
   "id": "966bbb7a",
   "metadata": {},
   "outputs": [],
   "source": []
  }
 ],
 "metadata": {
  "kernelspec": {
   "display_name": "Python 3",
   "language": "python",
   "name": "python3"
  },
  "language_info": {
   "codemirror_mode": {
    "name": "ipython",
    "version": 3
   },
   "file_extension": ".py",
   "mimetype": "text/x-python",
   "name": "python",
   "nbconvert_exporter": "python",
   "pygments_lexer": "ipython3",
   "version": "3.8.8"
  }
 },
 "nbformat": 4,
 "nbformat_minor": 5
}
