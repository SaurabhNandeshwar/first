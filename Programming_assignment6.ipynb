{
 "cells": [
  {
   "cell_type": "markdown",
   "id": "8551adb0",
   "metadata": {},
   "source": [
    "1. Write a Python Program to Display Fibonacci Sequence Using Recursion?\n",
    "\n",
    "\n",
    "\n"
   ]
  },
  {
   "cell_type": "code",
   "execution_count": 29,
   "id": "c69c1896",
   "metadata": {},
   "outputs": [
    {
     "name": "stdout",
     "output_type": "stream",
     "text": [
      "enter the num : 9\n",
      "[0, 1, 1, 2, 3, 5, 8, 13, 21, 34]\n"
     ]
    }
   ],
   "source": [
    "# fib series=0,1,1,2,3,5,8\n",
    "fib=[0,1]\n",
    "\n",
    "# for 3rd element \n",
    "def fibo(n):\n",
    "    for i in range(2,n+1):\n",
    "        fib.append(fib[i-1]+fib[i-2])\n",
    "    print(fib)\n",
    "    fib.clear()\n",
    "n=int(input('enter the num : '))\n",
    "fibo(n)"
   ]
  },
  {
   "cell_type": "markdown",
   "id": "9003addc",
   "metadata": {},
   "source": [
    "2. Write a Python Program to Find Factorial of Number Using Recursion?"
   ]
  },
  {
   "cell_type": "code",
   "execution_count": 35,
   "id": "45076c48",
   "metadata": {},
   "outputs": [
    {
     "name": "stdout",
     "output_type": "stream",
     "text": [
      "120\n"
     ]
    }
   ],
   "source": [
    "fact=[1,1]   \n",
    "def factorial(n):\n",
    "    for i in range(2,n+1):\n",
    "        fact.append(fact[i-1]*i)\n",
    "    print(fact[n])   \n",
    "factorial(5) "
   ]
  },
  {
   "cell_type": "markdown",
   "id": "69d6f8a3",
   "metadata": {},
   "source": [
    "3. Write a Python Program to calculate your Body Mass Index?"
   ]
  },
  {
   "cell_type": "code",
   "execution_count": 41,
   "id": "6f5e4aff",
   "metadata": {},
   "outputs": [
    {
     "name": "stdout",
     "output_type": "stream",
     "text": [
      "enter your weight: 62.5\n",
      "enter your height: 175\n",
      "bmi is  20.408163265306122\n"
     ]
    }
   ],
   "source": [
    "#bmi=wt/ht**2\n",
    "weight=float(input('enter your weight: '))\n",
    "height=(float(input('enter your height: ')))/100\n",
    "\n",
    "bmi=weight/(height**2)\n",
    "print(\"bmi is \",bmi)"
   ]
  },
  {
   "cell_type": "markdown",
   "id": "d7d17ae5",
   "metadata": {},
   "source": [
    "4. Write a Python Program to calculate the natural logarithm of any number?"
   ]
  },
  {
   "cell_type": "code",
   "execution_count": 45,
   "id": "4c1957bf",
   "metadata": {},
   "outputs": [
    {
     "name": "stdout",
     "output_type": "stream",
     "text": [
      "enter your number: 5\n",
      "1.6094379124341003\n"
     ]
    }
   ],
   "source": [
    "import math\n",
    "n=int(input('enter your number: '))\n",
    "print(math.log(n))"
   ]
  },
  {
   "cell_type": "markdown",
   "id": "c9499ab5",
   "metadata": {},
   "source": [
    "5. Write a Python Program for cube sum of first n natural numbers?"
   ]
  },
  {
   "cell_type": "code",
   "execution_count": 46,
   "id": "e4a1716d",
   "metadata": {},
   "outputs": [
    {
     "name": "stdout",
     "output_type": "stream",
     "text": [
      "enter your number: 8\n",
      "1296\n"
     ]
    }
   ],
   "source": [
    "n=int(input('enter your number: '))\n",
    "sum=0\n",
    "for i in range(1,n+1):\n",
    "    sum=sum + i**3\n",
    "print(sum)\n",
    "\n",
    "    "
   ]
  },
  {
   "cell_type": "code",
   "execution_count": null,
   "id": "c59c1e89",
   "metadata": {},
   "outputs": [],
   "source": []
  }
 ],
 "metadata": {
  "kernelspec": {
   "display_name": "Python 3",
   "language": "python",
   "name": "python3"
  },
  "language_info": {
   "codemirror_mode": {
    "name": "ipython",
    "version": 3
   },
   "file_extension": ".py",
   "mimetype": "text/x-python",
   "name": "python",
   "nbconvert_exporter": "python",
   "pygments_lexer": "ipython3",
   "version": "3.8.8"
  }
 },
 "nbformat": 4,
 "nbformat_minor": 5
}
