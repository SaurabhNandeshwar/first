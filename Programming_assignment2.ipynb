{
 "cells": [
  {
   "cell_type": "code",
   "execution_count": 12,
   "id": "161b48fe",
   "metadata": {},
   "outputs": [
    {
     "name": "stdout",
     "output_type": "stream",
     "text": [
      "enter kilometer to be converted : 24\n",
      " miles is : 14.879999999999999\n"
     ]
    }
   ],
   "source": [
    "#kilometer to meter\n",
    "kilo = int(input(\"enter kilometer to be converted : \"))\n",
    "conv =0.62 * kilo\n",
    "print(\" miles is :\",conv)"
   ]
  },
  {
   "cell_type": "code",
   "execution_count": 15,
   "id": "99b2a783",
   "metadata": {},
   "outputs": [
    {
     "name": "stdout",
     "output_type": "stream",
     "text": [
      "enter celsius be converted : 28.6\n",
      "28.6  degree celsius is  :  83.48  degree fahrenheit\n"
     ]
    }
   ],
   "source": [
    "# celsius to fahrenheit\n",
    "cels = float(input(\"enter celsius be converted : \"))\n",
    "fahr = (1.8 * cels)+32\n",
    "print(cels ,\" degree celsius is  : \", fahr,\" degree fahrenheit\")"
   ]
  },
  {
   "cell_type": "code",
   "execution_count": 16,
   "id": "6e2a9459",
   "metadata": {},
   "outputs": [],
   "source": [
    "#display calendar\n",
    "import calendar"
   ]
  },
  {
   "cell_type": "code",
   "execution_count": 36,
   "id": "1088b03d",
   "metadata": {},
   "outputs": [
    {
     "data": {
      "text/plain": [
       "'    October 2022\\nMo Tu We Th Fr Sa Su\\n                1  2\\n 3  4  5  6  7  8  9\\n10 11 12 13 14 15 16\\n17 18 19 20 21 22 23\\n24 25 26 27 28 29 30\\n31\\n'"
      ]
     },
     "execution_count": 36,
     "metadata": {},
     "output_type": "execute_result"
    }
   ],
   "source": [
    "calendar.month(2022,10)   #enter year ,month as parameter"
   ]
  },
  {
   "cell_type": "code",
   "execution_count": 37,
   "id": "39a1e622",
   "metadata": {},
   "outputs": [
    {
     "name": "stdout",
     "output_type": "stream",
     "text": [
      "    October 2022\n",
      "Mo Tu We Th Fr Sa Su\n",
      "                1  2\n",
      " 3  4  5  6  7  8  9\n",
      "10 11 12 13 14 15 16\n",
      "17 18 19 20 21 22 23\n",
      "24 25 26 27 28 29 30\n",
      "31\n",
      "\n"
     ]
    }
   ],
   "source": [
    "print(str(calendar.month(2022,10)))"
   ]
  },
  {
   "cell_type": "code",
   "execution_count": 43,
   "id": "f6a85bcc",
   "metadata": {},
   "outputs": [
    {
     "name": "stdout",
     "output_type": "stream",
     "text": [
      "2\n",
      "12\n",
      "18\n",
      " equation is  2 x**2 + 12 x + 18\n"
     ]
    }
   ],
   "source": [
    "# quadratic equations\n",
    "import  math\n",
    "\n",
    "a = int(input())\n",
    "b = int(input())\n",
    "c = int(input())\n",
    "print(\" equation is \",a,\"x**2 +\",b,\"x +\",c)"
   ]
  },
  {
   "cell_type": "code",
   "execution_count": 47,
   "id": "62d8c3a0",
   "metadata": {},
   "outputs": [
    {
     "name": "stdout",
     "output_type": "stream",
     "text": [
      "The solution are -3.0 and -3.0\n"
     ]
    }
   ],
   "source": [
    "d = (b**2) - (4*a*c)\n",
    "s1 = (-b-math.sqrt(d))/(2*a)\n",
    "s2 = (-b+math.sqrt(d))/(2*a)\n",
    "\n",
    "print('The solution are {0} and {1}'.format(s1,s2))"
   ]
  },
  {
   "cell_type": "code",
   "execution_count": 51,
   "id": "d42b4325",
   "metadata": {},
   "outputs": [
    {
     "name": "stdout",
     "output_type": "stream",
     "text": [
      "2\n",
      "4\n",
      "the value of x and y is 4 ,2\n"
     ]
    }
   ],
   "source": [
    "# swap without temp\n",
    "x=int(input())\n",
    "y=int(input())\n",
    "x,y=y,x\n",
    "print('the value of x and y is {0} ,{1}'.format(x,y))"
   ]
  },
  {
   "cell_type": "code",
   "execution_count": null,
   "id": "0cba8217",
   "metadata": {},
   "outputs": [],
   "source": []
  }
 ],
 "metadata": {
  "kernelspec": {
   "display_name": "Python 3",
   "language": "python",
   "name": "python3"
  },
  "language_info": {
   "codemirror_mode": {
    "name": "ipython",
    "version": 3
   },
   "file_extension": ".py",
   "mimetype": "text/x-python",
   "name": "python",
   "nbconvert_exporter": "python",
   "pygments_lexer": "ipython3",
   "version": "3.8.8"
  }
 },
 "nbformat": 4,
 "nbformat_minor": 5
}
