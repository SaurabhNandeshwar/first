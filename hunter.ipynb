{
 "cells": [
  {
   "cell_type": "code",
   "execution_count": 2,
   "id": "67ac57f8",
   "metadata": {},
   "outputs": [
    {
     "name": "stdout",
     "output_type": "stream",
     "text": [
      "hello hunter\n"
     ]
    }
   ],
   "source": [
    "print(\"hello hunter\")\n"
   ]
  },
  {
   "cell_type": "code",
   "execution_count": 3,
   "id": "76bab5ef",
   "metadata": {},
   "outputs": [],
   "source": [
    "chamap1 =\"cena\""
   ]
  },
  {
   "cell_type": "code",
   "execution_count": 5,
   "id": "e611f34d",
   "metadata": {},
   "outputs": [
    {
     "data": {
      "text/plain": [
       "'cena'"
      ]
     },
     "execution_count": 5,
     "metadata": {},
     "output_type": "execute_result"
    }
   ],
   "source": [
    "chamap1"
   ]
  },
  {
   "cell_type": "code",
   "execution_count": 6,
   "id": "ce90418a",
   "metadata": {},
   "outputs": [
    {
     "data": {
      "text/plain": [
       "'rko'"
      ]
     },
     "execution_count": 6,
     "metadata": {},
     "output_type": "execute_result"
    }
   ],
   "source": [
    "chamap1=\"rko\"\n",
    "chamap1"
   ]
  },
  {
   "cell_type": "code",
   "execution_count": 10,
   "id": "7e11595a",
   "metadata": {},
   "outputs": [
    {
     "data": {
      "text/plain": [
       "10"
      ]
     },
     "execution_count": 10,
     "metadata": {},
     "output_type": "execute_result"
    }
   ],
   "source": [
    "a=10\n",
    "b=20\n",
    "a%b"
   ]
  },
  {
   "cell_type": "code",
   "execution_count": 17,
   "id": "11063ede",
   "metadata": {},
   "outputs": [
    {
     "data": {
      "text/plain": [
       "True"
      ]
     },
     "execution_count": 17,
     "metadata": {},
     "output_type": "execute_result"
    }
   ],
   "source": [
    "a<b & b>a"
   ]
  },
  {
   "cell_type": "code",
   "execution_count": 23,
   "id": "5c8b530f",
   "metadata": {},
   "outputs": [
    {
     "data": {
      "text/plain": [
       "False"
      ]
     },
     "execution_count": 23,
     "metadata": {},
     "output_type": "execute_result"
    }
   ],
   "source": [
    "a<b | b<a"
   ]
  },
  {
   "cell_type": "code",
   "execution_count": 24,
   "id": "3df65a2f",
   "metadata": {},
   "outputs": [],
   "source": [
    "import numpy as np"
   ]
  },
  {
   "cell_type": "code",
   "execution_count": 26,
   "id": "9abe3951",
   "metadata": {},
   "outputs": [],
   "source": [
    "n1=np.zeros([2,4])"
   ]
  },
  {
   "cell_type": "code",
   "execution_count": 27,
   "id": "2dd8bf8f",
   "metadata": {},
   "outputs": [
    {
     "data": {
      "text/plain": [
       "array([[0., 0., 0., 0.],\n",
       "       [0., 0., 0., 0.]])"
      ]
     },
     "execution_count": 27,
     "metadata": {},
     "output_type": "execute_result"
    }
   ],
   "source": [
    "n1\n"
   ]
  },
  {
   "cell_type": "code",
   "execution_count": null,
   "id": "61455dbe",
   "metadata": {},
   "outputs": [],
   "source": [
    "  "
   ]
  }
 ],
 "metadata": {
  "kernelspec": {
   "display_name": "Python 3",
   "language": "python",
   "name": "python3"
  },
  "language_info": {
   "codemirror_mode": {
    "name": "ipython",
    "version": 3
   },
   "file_extension": ".py",
   "mimetype": "text/x-python",
   "name": "python",
   "nbconvert_exporter": "python",
   "pygments_lexer": "ipython3",
   "version": "3.8.8"
  }
 },
 "nbformat": 4,
 "nbformat_minor": 5
}
