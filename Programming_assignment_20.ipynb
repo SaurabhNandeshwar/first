{
 "cells": [
  {
   "cell_type": "markdown",
   "id": "716d731e",
   "metadata": {},
   "source": [
    "Create a function that takes a list of strings and integers, and filters out the list so that it\n",
    "returns a list of integers only.\n",
    "\n",
    "Examples\n",
    "\n",
    "filter_list([1, 2, 3, &quot;a&quot;, &quot;b&quot;, 4]) ➞ [1, 2, 3, 4]\n",
    "\n",
    "filter_list([&quot;A&quot;, 0, &quot;Edabit&quot;, 1729, &quot;Python&quot;, &quot;1729&quot;]) ➞ [0, 1729]\n",
    "\n",
    "filter_list([&quot;Nothing&quot;, &quot;here&quot;]) ➞ []\n"
   ]
  },
  {
   "cell_type": "code",
   "execution_count": 1,
   "id": "cd78f018",
   "metadata": {},
   "outputs": [
    {
     "data": {
      "text/plain": [
       "[1, 2, 3]"
      ]
     },
     "execution_count": 1,
     "metadata": {},
     "output_type": "execute_result"
    }
   ],
   "source": [
    "def filter_list(l):\n",
    "    l2=[]\n",
    "    for i in l:\n",
    "        if(type(i)==int):\n",
    "            l2.append(i)\n",
    "    return l2\n",
    "filter_list([1,2,3,'a','b'])"
   ]
  },
  {
   "cell_type": "markdown",
   "id": "66229c93",
   "metadata": {},
   "source": [
    "Question 2\n",
    "\n",
    "Given a list of numbers, create a function which returns the list but with each element&#39;s\n",
    "index in the list added to itself. This means you add 0 to the number at index 0, add 1 to the\n",
    "number at index 1, etc...\n",
    "\n",
    "Examples\n",
    "\n",
    "add_indexes([0, 0, 0, 0, 0]) ➞ [0, 1, 2, 3, 4]\n",
    "\n",
    "add_indexes([1, 2, 3, 4, 5]) ➞ [1, 3, 5, 7, 9]\n",
    "\n",
    "add_indexes([5, 4, 3, 2, 1]) ➞ [5, 5, 5, 5, 5]\n"
   ]
  },
  {
   "cell_type": "code",
   "execution_count": 3,
   "id": "0b39dabc",
   "metadata": {},
   "outputs": [
    {
     "data": {
      "text/plain": [
       "([1, 3, 5, 7, 9], [5, 5, 5, 5, 5])"
      ]
     },
     "execution_count": 3,
     "metadata": {},
     "output_type": "execute_result"
    }
   ],
   "source": [
    "def add_indexes(l):\n",
    "    l3=[]\n",
    "    for i in range(0,len(l)):\n",
    "        l3.append(i+l[i])\n",
    "    return l3\n",
    "add_indexes([1,2,3,4,5]),add_indexes([5,4,3,2,1])"
   ]
  },
  {
   "cell_type": "markdown",
   "id": "71726a73",
   "metadata": {},
   "source": [
    "Question 3:\n",
    "\n",
    "Create a function that takes the height and radius of a cone as arguments and returns the\n",
    "volume of the cone rounded to the nearest hundredth. See the resources tab for the formula.\n",
    "\n",
    "Examples\n",
    "\n",
    "cone_volume(3, 2) ➞ 12.57\n",
    "\n",
    "cone_volume(15, 6) ➞ 565.49\n",
    "\n",
    "cone_volume(18, 0) ➞ 0\n"
   ]
  },
  {
   "cell_type": "code",
   "execution_count": 25,
   "id": "a24e669d",
   "metadata": {},
   "outputs": [
    {
     "data": {
      "text/plain": [
       "(12.57, 565.49)"
      ]
     },
     "execution_count": 25,
     "metadata": {},
     "output_type": "execute_result"
    }
   ],
   "source": [
    "#vol=0.33333*3.14159*r^2*h\n",
    "def cone_volume(h,r):\n",
    "    vol=(1/3)*3.1416*r**2*h\n",
    "    return round(vol,ndigits=2)\n",
    "cone_volume(3,2),cone_volume(15,6)"
   ]
  },
  {
   "cell_type": "markdown",
   "id": "9351b8ec",
   "metadata": {},
   "source": [
    "Question 4:\n",
    "\n",
    "This Triangular Number Sequence is generated from a pattern of dots that form a triangle.\n",
    "The first 5 numbers of the sequence, or dots, are:\n",
    "    \n",
    "1, 3, 6, 10, 15\n",
    "\n",
    "This means that the first triangle has just one dot, the second one has three dots, the third one\n",
    "has 6 dots and so on.\n",
    "Write a function that gives the number of dots with its corresponding triangle number of the\n",
    "sequence.\n",
    "\n",
    "Examples\n",
    "\n",
    "triangle(1) ➞ 1\n",
    "\n",
    "triangle(6) ➞ 21\n",
    "\n",
    "triangle(215) ➞ 23220"
   ]
  },
  {
   "cell_type": "code",
   "execution_count": 42,
   "id": "8e5d8391",
   "metadata": {},
   "outputs": [
    {
     "name": "stdout",
     "output_type": "stream",
     "text": [
      "how many levels: 6\n",
      "21\n"
     ]
    }
   ],
   "source": [
    "#triangular sequence:0,1,3,6,10,15,21\n",
    "\n",
    "sum_of_dots=0\n",
    "n=int(input(\"how many levels: \"))\n",
    "for i in range(1,n+1):\n",
    "    sum_of_dots=sum_of_dots+i\n",
    "print(sum_of_dots)"
   ]
  },
  {
   "cell_type": "markdown",
   "id": "7cd1d3c8",
   "metadata": {},
   "source": [
    "Question 5:\n",
    "Create a function that takes a list of numbers between 1 and 10 (excluding one number) and\n",
    "returns the missing number.\n",
    "\n",
    "Examples\n",
    "\n",
    "missing_num([1, 2, 3, 4, 6, 7, 8, 9, 10]) ➞ 5\n",
    "\n",
    "missing_num([7, 2, 3, 6, 5, 9, 1, 4, 8]) ➞ 10\n",
    "\n",
    "missing_num([10, 5, 1, 2, 4, 6, 8, 3, 9]) ➞ 7"
   ]
  },
  {
   "cell_type": "code",
   "execution_count": 31,
   "id": "cb70b6b2",
   "metadata": {},
   "outputs": [
    {
     "data": {
      "text/plain": [
       "{10}"
      ]
     },
     "execution_count": 31,
     "metadata": {},
     "output_type": "execute_result"
    }
   ],
   "source": [
    "def missing_num(l):\n",
    "    set2={1,2,3,4,5,6,7,8,9,10}\n",
    "    return(set2-set(l))\n",
    "missing_num([1,2,3,4,5,6,7,8,9]) "
   ]
  },
  {
   "cell_type": "code",
   "execution_count": null,
   "id": "9067059b",
   "metadata": {},
   "outputs": [],
   "source": []
  }
 ],
 "metadata": {
  "kernelspec": {
   "display_name": "Python 3",
   "language": "python",
   "name": "python3"
  },
  "language_info": {
   "codemirror_mode": {
    "name": "ipython",
    "version": 3
   },
   "file_extension": ".py",
   "mimetype": "text/x-python",
   "name": "python",
   "nbconvert_exporter": "python",
   "pygments_lexer": "ipython3",
   "version": "3.8.8"
  }
 },
 "nbformat": 4,
 "nbformat_minor": 5
}
