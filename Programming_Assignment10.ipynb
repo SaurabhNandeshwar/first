{
 "cells": [
  {
   "cell_type": "markdown",
   "id": "cdd801e7",
   "metadata": {},
   "source": [
    "1. Write a Python program to find sum of elements in list?"
   ]
  },
  {
   "cell_type": "code",
   "execution_count": 1,
   "id": "3389636b",
   "metadata": {},
   "outputs": [
    {
     "name": "stdout",
     "output_type": "stream",
     "text": [
      "387\n"
     ]
    }
   ],
   "source": [
    "l=[1,22,31,34,64,235]\n",
    "print(sum(l))"
   ]
  },
  {
   "cell_type": "markdown",
   "id": "f5c4bd45",
   "metadata": {},
   "source": [
    "2. Write a Python program to Multiply all numbers in the list?"
   ]
  },
  {
   "cell_type": "code",
   "execution_count": 2,
   "id": "d325796f",
   "metadata": {},
   "outputs": [
    {
     "name": "stdout",
     "output_type": "stream",
     "text": [
      "348747520\n"
     ]
    }
   ],
   "source": [
    "res=1\n",
    "for i in l:\n",
    "    res=res*i\n",
    "print(res)"
   ]
  },
  {
   "cell_type": "markdown",
   "id": "5e962914",
   "metadata": {},
   "source": [
    "3. Write a Python program to find smallest number in a list?"
   ]
  },
  {
   "cell_type": "code",
   "execution_count": 13,
   "id": "1b59a11e",
   "metadata": {},
   "outputs": [
    {
     "data": {
      "text/plain": [
       "2"
      ]
     },
     "execution_count": 13,
     "metadata": {},
     "output_type": "execute_result"
    }
   ],
   "source": [
    "l2=[221,2,34,54,678]\n",
    "l2.sort()\n",
    "l2[0]"
   ]
  },
  {
   "cell_type": "markdown",
   "id": "983f1d6e",
   "metadata": {},
   "source": [
    "4. Write a Python program to find largest number in a list?"
   ]
  },
  {
   "cell_type": "code",
   "execution_count": 14,
   "id": "1a58cd5c",
   "metadata": {},
   "outputs": [
    {
     "data": {
      "text/plain": [
       "678"
      ]
     },
     "execution_count": 14,
     "metadata": {},
     "output_type": "execute_result"
    }
   ],
   "source": [
    "l2=[221,2,34,54,678]\n",
    "max(l2)"
   ]
  },
  {
   "cell_type": "markdown",
   "id": "b922a147",
   "metadata": {},
   "source": [
    "5. Write a Python program to find second largest number in a list?"
   ]
  },
  {
   "cell_type": "code",
   "execution_count": 15,
   "id": "51cf217f",
   "metadata": {},
   "outputs": [
    {
     "data": {
      "text/plain": [
       "221"
      ]
     },
     "execution_count": 15,
     "metadata": {},
     "output_type": "execute_result"
    }
   ],
   "source": [
    "l2=[221,2,34,54,678]\n",
    "l2.sort()\n",
    "l2[-2]"
   ]
  },
  {
   "cell_type": "markdown",
   "id": "bdb15e33",
   "metadata": {},
   "source": [
    "6. Write a Python program to find N largest elements from a list?"
   ]
  },
  {
   "cell_type": "code",
   "execution_count": 27,
   "id": "78815922",
   "metadata": {},
   "outputs": [
    {
     "name": "stdout",
     "output_type": "stream",
     "text": [
      "enter the num : 3\n"
     ]
    },
    {
     "data": {
      "text/plain": [
       "[345, 458, 678]"
      ]
     },
     "execution_count": 27,
     "metadata": {},
     "output_type": "execute_result"
    }
   ],
   "source": [
    "N=int(input(\"enter the num : \"))\n",
    "l2=[221,2,34,54,678,79,458,345]\n",
    "l2.sort()\n",
    "L=len(l2)\n",
    "l2[L-N:L]"
   ]
  },
  {
   "cell_type": "markdown",
   "id": "eae6d3d6",
   "metadata": {},
   "source": [
    "7. Write a Python program to print even numbers in a list?"
   ]
  },
  {
   "cell_type": "code",
   "execution_count": 28,
   "id": "0eef40b9",
   "metadata": {},
   "outputs": [
    {
     "data": {
      "text/plain": [
       "[2, 34, 54, 678, 458]"
      ]
     },
     "execution_count": 28,
     "metadata": {},
     "output_type": "execute_result"
    }
   ],
   "source": [
    "l2=[221,2,34,54,678,79,458,345]\n",
    "l=[i for i in l2 if i%2==0]\n",
    "l"
   ]
  },
  {
   "cell_type": "markdown",
   "id": "a421e4fe",
   "metadata": {},
   "source": [
    "8. Write a Python program to print odd numbers in a list?"
   ]
  },
  {
   "cell_type": "code",
   "execution_count": 29,
   "id": "52186c00",
   "metadata": {},
   "outputs": [
    {
     "data": {
      "text/plain": [
       "[221, 79, 345]"
      ]
     },
     "execution_count": 29,
     "metadata": {},
     "output_type": "execute_result"
    }
   ],
   "source": [
    "l2=[221,2,34,54,678,79,458,345]\n",
    "l=[i for i in l2 if i%2==1]\n",
    "l"
   ]
  },
  {
   "cell_type": "markdown",
   "id": "f90ef105",
   "metadata": {},
   "source": [
    "9. Write a Python program to Remove empty List from List?"
   ]
  },
  {
   "cell_type": "code",
   "execution_count": 33,
   "id": "9725b264",
   "metadata": {},
   "outputs": [
    {
     "data": {
      "text/plain": [
       "[1, 2, 3, 45, 6]"
      ]
     },
     "execution_count": 33,
     "metadata": {},
     "output_type": "execute_result"
    }
   ],
   "source": [
    "l3=[1,2,3,[],45,6]\n",
    "l3.index([])  # returns the index of empty list\n",
    "l3.pop(3)     # removes element from 3rd index\n",
    "l3"
   ]
  },
  {
   "cell_type": "markdown",
   "id": "561a69d3",
   "metadata": {},
   "source": [
    "10. Write a Python program to Cloning or Copying a list?"
   ]
  },
  {
   "cell_type": "code",
   "execution_count": 34,
   "id": "2cf7e8f8",
   "metadata": {},
   "outputs": [
    {
     "data": {
      "text/plain": [
       "[1, 2, 3, 45, 6]"
      ]
     },
     "execution_count": 34,
     "metadata": {},
     "output_type": "execute_result"
    }
   ],
   "source": [
    "l4=l3.copy()\n",
    "l4"
   ]
  },
  {
   "cell_type": "markdown",
   "id": "8e521be5",
   "metadata": {},
   "source": [
    "11. Write a Python program to Count occurrences of an element in a list?"
   ]
  },
  {
   "cell_type": "code",
   "execution_count": 37,
   "id": "9e142045",
   "metadata": {},
   "outputs": [
    {
     "data": {
      "text/plain": [
       "3"
      ]
     },
     "execution_count": 37,
     "metadata": {},
     "output_type": "execute_result"
    }
   ],
   "source": [
    "l=[1,2,2,2,2,2,2,2,3,4,5,6,[],[],[]]\n",
    "l.count([])"
   ]
  }
 ],
 "metadata": {
  "kernelspec": {
   "display_name": "Python 3",
   "language": "python",
   "name": "python3"
  },
  "language_info": {
   "codemirror_mode": {
    "name": "ipython",
    "version": 3
   },
   "file_extension": ".py",
   "mimetype": "text/x-python",
   "name": "python",
   "nbconvert_exporter": "python",
   "pygments_lexer": "ipython3",
   "version": "3.8.8"
  }
 },
 "nbformat": 4,
 "nbformat_minor": 5
}
